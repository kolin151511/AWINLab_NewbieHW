{
  "nbformat": 4,
  "nbformat_minor": 0,
  "metadata": {
    "colab": {
      "name": "Mobile Price Classification.ipynb",
      "provenance": [],
      "collapsed_sections": [
        "reQi8zgJwicX",
        "vPLOVQN5w5ch",
        "acPKRT1LwXb-",
        "nAsNn-GFPt3z"
      ]
    },
    "kernelspec": {
      "name": "python3",
      "display_name": "Python 3"
    },
    "language_info": {
      "name": "python"
    }
  },
  "cells": [
    {
      "cell_type": "code",
      "source": [
        "!pip install plotly chart-studio"
      ],
      "metadata": {
        "colab": {
          "base_uri": "https://localhost:8080/"
        },
        "id": "q97kTBnubILw",
        "outputId": "af91a3ed-b940-4396-f9e2-b652fed0a7d6"
      },
      "execution_count": 1,
      "outputs": [
        {
          "output_type": "stream",
          "name": "stdout",
          "text": [
            "Requirement already satisfied: plotly in /usr/local/lib/python3.7/dist-packages (5.5.0)\n",
            "Collecting chart-studio\n",
            "  Downloading chart_studio-1.1.0-py3-none-any.whl (64 kB)\n",
            "\u001b[K     |████████████████████████████████| 64 kB 2.7 MB/s \n",
            "\u001b[?25hRequirement already satisfied: six in /usr/local/lib/python3.7/dist-packages (from plotly) (1.15.0)\n",
            "Requirement already satisfied: tenacity>=6.2.0 in /usr/local/lib/python3.7/dist-packages (from plotly) (8.0.1)\n",
            "Requirement already satisfied: requests in /usr/local/lib/python3.7/dist-packages (from chart-studio) (2.23.0)\n",
            "Collecting retrying>=1.3.3\n",
            "  Downloading retrying-1.3.3.tar.gz (10 kB)\n",
            "Requirement already satisfied: certifi>=2017.4.17 in /usr/local/lib/python3.7/dist-packages (from requests->chart-studio) (2021.10.8)\n",
            "Requirement already satisfied: urllib3!=1.25.0,!=1.25.1,<1.26,>=1.21.1 in /usr/local/lib/python3.7/dist-packages (from requests->chart-studio) (1.24.3)\n",
            "Requirement already satisfied: idna<3,>=2.5 in /usr/local/lib/python3.7/dist-packages (from requests->chart-studio) (2.10)\n",
            "Requirement already satisfied: chardet<4,>=3.0.2 in /usr/local/lib/python3.7/dist-packages (from requests->chart-studio) (3.0.4)\n",
            "Building wheels for collected packages: retrying\n",
            "  Building wheel for retrying (setup.py) ... \u001b[?25l\u001b[?25hdone\n",
            "  Created wheel for retrying: filename=retrying-1.3.3-py3-none-any.whl size=11447 sha256=df0c11135552102dead5f4eb14439bb200d3469fbdbeed4fa0013cb313781a68\n",
            "  Stored in directory: /root/.cache/pip/wheels/f9/8d/8d/f6af3f7f9eea3553bc2fe6d53e4b287dad18b06a861ac56ddf\n",
            "Successfully built retrying\n",
            "Installing collected packages: retrying, chart-studio\n",
            "Successfully installed chart-studio-1.1.0 retrying-1.3.3\n"
          ]
        }
      ]
    },
    {
      "cell_type": "code",
      "source": [
        "!pip install --upgrade plotly"
      ],
      "metadata": {
        "colab": {
          "base_uri": "https://localhost:8080/"
        },
        "id": "7kVf5XQTi-Fr",
        "outputId": "72487a64-c58f-4a84-cad4-8df6e3c26597"
      },
      "execution_count": 2,
      "outputs": [
        {
          "output_type": "stream",
          "name": "stdout",
          "text": [
            "Requirement already satisfied: plotly in /usr/local/lib/python3.7/dist-packages (5.5.0)\n",
            "Collecting plotly\n",
            "  Downloading plotly-5.7.0-py2.py3-none-any.whl (28.8 MB)\n",
            "\u001b[K     |████████████████████████████████| 28.8 MB 1.4 MB/s \n",
            "\u001b[?25hRequirement already satisfied: six in /usr/local/lib/python3.7/dist-packages (from plotly) (1.15.0)\n",
            "Requirement already satisfied: tenacity>=6.2.0 in /usr/local/lib/python3.7/dist-packages (from plotly) (8.0.1)\n",
            "Installing collected packages: plotly\n",
            "  Attempting uninstall: plotly\n",
            "    Found existing installation: plotly 5.5.0\n",
            "    Uninstalling plotly-5.5.0:\n",
            "      Successfully uninstalled plotly-5.5.0\n",
            "Successfully installed plotly-5.7.0\n"
          ]
        }
      ]
    },
    {
      "cell_type": "code",
      "execution_count": 3,
      "metadata": {
        "colab": {
          "base_uri": "https://localhost:8080/",
          "height": 17
        },
        "id": "9TjJvT_RaP8Y",
        "outputId": "9c26ccaf-e218-425a-b592-ca4927042485"
      },
      "outputs": [
        {
          "output_type": "display_data",
          "data": {
            "text/html": [
              "        <script type=\"text/javascript\">\n",
              "        window.PlotlyConfig = {MathJaxConfig: 'local'};\n",
              "        if (window.MathJax) {MathJax.Hub.Config({SVG: {font: \"STIX-Web\"}});}\n",
              "        if (typeof require !== 'undefined') {\n",
              "        require.undef(\"plotly\");\n",
              "        requirejs.config({\n",
              "            paths: {\n",
              "                'plotly': ['https://cdn.plot.ly/plotly-2.11.1.min']\n",
              "            }\n",
              "        });\n",
              "        require(['plotly'], function(Plotly) {\n",
              "            window._Plotly = Plotly;\n",
              "        });\n",
              "        }\n",
              "        </script>\n",
              "        "
            ]
          },
          "metadata": {}
        }
      ],
      "source": [
        "import numpy as np\n",
        "import pandas as pd\n",
        "import chart_studio.plotly  as py\n",
        "from plotly.offline import init_notebook_mode,iplot\n",
        "init_notebook_mode(connected=True)\n",
        "import plotly.graph_objs as go\n",
        "import warnings"
      ]
    },
    {
      "cell_type": "code",
      "source": [
        "from google.colab import drive\n",
        "drive.mount('/content/drive')"
      ],
      "metadata": {
        "colab": {
          "base_uri": "https://localhost:8080/"
        },
        "id": "Wo9Y-m_8a6j3",
        "outputId": "8a26af30-c6b4-4fe6-cbe4-53d594d73415"
      },
      "execution_count": 5,
      "outputs": [
        {
          "output_type": "stream",
          "name": "stdout",
          "text": [
            "Mounted at /content/drive\n"
          ]
        }
      ]
    },
    {
      "cell_type": "code",
      "source": [
        "data = pd.read_csv('/content/drive/MyDrive/Colab/Mobile Price Classification_data/train.csv')\n",
        "print(data)"
      ],
      "metadata": {
        "colab": {
          "base_uri": "https://localhost:8080/"
        },
        "id": "QSdGDC5cbuIr",
        "outputId": "4047f213-7940-445f-e6c1-494c696f36eb"
      },
      "execution_count": 6,
      "outputs": [
        {
          "output_type": "stream",
          "name": "stdout",
          "text": [
            "      battery_power  blue  clock_speed  dual_sim  fc  four_g  int_memory  \\\n",
            "0               842     0          2.2         0   1       0           7   \n",
            "1              1021     1          0.5         1   0       1          53   \n",
            "2               563     1          0.5         1   2       1          41   \n",
            "3               615     1          2.5         0   0       0          10   \n",
            "4              1821     1          1.2         0  13       1          44   \n",
            "...             ...   ...          ...       ...  ..     ...         ...   \n",
            "1995            794     1          0.5         1   0       1           2   \n",
            "1996           1965     1          2.6         1   0       0          39   \n",
            "1997           1911     0          0.9         1   1       1          36   \n",
            "1998           1512     0          0.9         0   4       1          46   \n",
            "1999            510     1          2.0         1   5       1          45   \n",
            "\n",
            "      m_dep  mobile_wt  n_cores  ...  px_height  px_width   ram  sc_h  sc_w  \\\n",
            "0       0.6        188        2  ...         20       756  2549     9     7   \n",
            "1       0.7        136        3  ...        905      1988  2631    17     3   \n",
            "2       0.9        145        5  ...       1263      1716  2603    11     2   \n",
            "3       0.8        131        6  ...       1216      1786  2769    16     8   \n",
            "4       0.6        141        2  ...       1208      1212  1411     8     2   \n",
            "...     ...        ...      ...  ...        ...       ...   ...   ...   ...   \n",
            "1995    0.8        106        6  ...       1222      1890   668    13     4   \n",
            "1996    0.2        187        4  ...        915      1965  2032    11    10   \n",
            "1997    0.7        108        8  ...        868      1632  3057     9     1   \n",
            "1998    0.1        145        5  ...        336       670   869    18    10   \n",
            "1999    0.9        168        6  ...        483       754  3919    19     4   \n",
            "\n",
            "      talk_time  three_g  touch_screen  wifi  price_range  \n",
            "0            19        0             0     1            1  \n",
            "1             7        1             1     0            2  \n",
            "2             9        1             1     0            2  \n",
            "3            11        1             0     0            2  \n",
            "4            15        1             1     0            1  \n",
            "...         ...      ...           ...   ...          ...  \n",
            "1995         19        1             1     0            0  \n",
            "1996         16        1             1     1            2  \n",
            "1997          5        1             1     0            3  \n",
            "1998         19        1             1     1            0  \n",
            "1999          2        1             1     1            3  \n",
            "\n",
            "[2000 rows x 21 columns]\n"
          ]
        }
      ]
    },
    {
      "cell_type": "code",
      "source": [
        "data.info()"
      ],
      "metadata": {
        "colab": {
          "base_uri": "https://localhost:8080/"
        },
        "id": "AsGJe6_4ej1f",
        "outputId": "6ce7a4fc-614e-4e2a-8f13-1537cd61990a"
      },
      "execution_count": 7,
      "outputs": [
        {
          "output_type": "stream",
          "name": "stdout",
          "text": [
            "<class 'pandas.core.frame.DataFrame'>\n",
            "RangeIndex: 2000 entries, 0 to 1999\n",
            "Data columns (total 21 columns):\n",
            " #   Column         Non-Null Count  Dtype  \n",
            "---  ------         --------------  -----  \n",
            " 0   battery_power  2000 non-null   int64  \n",
            " 1   blue           2000 non-null   int64  \n",
            " 2   clock_speed    2000 non-null   float64\n",
            " 3   dual_sim       2000 non-null   int64  \n",
            " 4   fc             2000 non-null   int64  \n",
            " 5   four_g         2000 non-null   int64  \n",
            " 6   int_memory     2000 non-null   int64  \n",
            " 7   m_dep          2000 non-null   float64\n",
            " 8   mobile_wt      2000 non-null   int64  \n",
            " 9   n_cores        2000 non-null   int64  \n",
            " 10  pc             2000 non-null   int64  \n",
            " 11  px_height      2000 non-null   int64  \n",
            " 12  px_width       2000 non-null   int64  \n",
            " 13  ram            2000 non-null   int64  \n",
            " 14  sc_h           2000 non-null   int64  \n",
            " 15  sc_w           2000 non-null   int64  \n",
            " 16  talk_time      2000 non-null   int64  \n",
            " 17  three_g        2000 non-null   int64  \n",
            " 18  touch_screen   2000 non-null   int64  \n",
            " 19  wifi           2000 non-null   int64  \n",
            " 20  price_range    2000 non-null   int64  \n",
            "dtypes: float64(2), int64(19)\n",
            "memory usage: 328.2 KB\n"
          ]
        }
      ]
    },
    {
      "cell_type": "code",
      "source": [
        "# print out the features \n",
        "for i in range(0,21):\n",
        "  print(data.columns[i])\n",
        "print(f\"number of the features : {len(data.columns)}\")"
      ],
      "metadata": {
        "colab": {
          "base_uri": "https://localhost:8080/"
        },
        "id": "9FqWNIdFelN2",
        "outputId": "1d5b0ec7-65e9-4a45-e714-081b2653878c"
      },
      "execution_count": 8,
      "outputs": [
        {
          "output_type": "stream",
          "name": "stdout",
          "text": [
            "battery_power\n",
            "blue\n",
            "clock_speed\n",
            "dual_sim\n",
            "fc\n",
            "four_g\n",
            "int_memory\n",
            "m_dep\n",
            "mobile_wt\n",
            "n_cores\n",
            "pc\n",
            "px_height\n",
            "px_width\n",
            "ram\n",
            "sc_h\n",
            "sc_w\n",
            "talk_time\n",
            "three_g\n",
            "touch_screen\n",
            "wifi\n",
            "price_range\n",
            "number of the features : 21\n"
          ]
        }
      ]
    },
    {
      "cell_type": "code",
      "source": [
        "import plotly"
      ],
      "metadata": {
        "id": "6s2cmetJhSt9"
      },
      "execution_count": 9,
      "outputs": []
    },
    {
      "cell_type": "code",
      "source": [
        "import plotly.figure_factory as ff\n",
        "datahead=data.head(10)\n",
        "fig = ff.create_table(datahead)\n",
        "# datahead=datahead.rename(index=str, columns={\"battery_power\": \"Battery Power\", \"blue\": \"Bluetooth\",\"clock_speed\":\"Clock Speed\",\"dual_sim\":\"Dual Sim\",\"fc\":\"Front Camera MP\",\n",
        "#                                    \"four_g\":\"4G\",\"int_memory\":\"Internal Memory(GB)\",\"m_dep\":\"Mobile Depth(CM)\",\"mobile_wt\":\"Weight\",\"n_cores\":\"Number of cores\",\"pc\":\"Primary Camera MP\"\n",
        "#                                    ,\"px_height\":\"Pixel R. Height\",\"px_width\":\"Pixel R. Width\",\"ram\":\"RAM(MB)\",\"sc_h\":\"Screen Height(cm)\",\"sc_w\":\"Screen Width\",\n",
        "#                                    \"talk_time\":\"Longest Battery Charge\",\"three_g\":\"3G\",\"touch_screen\":\"Touch Screen\",\"wifi\":\"WIFI\",\"price_range\":\"Price Range\"})\n",
        "# colorscale = \"Greens\"\n",
        "# table = ff.create_table(datahead,colorscale=colorscale,height_constant=40)\n",
        "# table.layout.width=2500\n",
        "# for i in range(len(table.layout.annotations)):\n",
        "#     table.layout.annotations[i].font.size = 8\n"
      ],
      "metadata": {
        "id": "_E623EHOeseV"
      },
      "execution_count": 10,
      "outputs": []
    },
    {
      "cell_type": "code",
      "source": [
        "import missingno as msno\n",
        "import matplotlib.pyplot as plt\n",
        "msno.bar(data)\n",
        "plt.show()"
      ],
      "metadata": {
        "colab": {
          "base_uri": "https://localhost:8080/",
          "height": 613
        },
        "id": "DMZCf0v6ggCq",
        "outputId": "bd75541f-e2e5-4e37-e335-997fecd5d66d"
      },
      "execution_count": 11,
      "outputs": [
        {
          "output_type": "display_data",
          "data": {
            "text/plain": [
              "<Figure size 1800x720 with 3 Axes>"
            ],
            "image/png": "[encoded data removed]"
          },
          "metadata": {
            "needs_background": "light"
          }
        }
      ]
    },
    {
      "cell_type": "code",
      "source": [
        "data.corr()"
      ],
      "metadata": {
        "colab": {
          "base_uri": "https://localhost:8080/",
          "height": 801
        },
        "id": "xjokpIJcjn3i",
        "outputId": "7584788e-2d50-4ebf-df5a-1a39fe6fc206"
      },
      "execution_count": 12,
      "outputs": [
        {
          "output_type": "execute_result",
          "data": {
            "text/plain": [
              "               battery_power      blue  clock_speed  dual_sim        fc  \\\n",
              "battery_power       1.000000  0.011252     0.011482 -0.041847  0.033334   \n",
              "blue                0.011252  1.000000     0.021419  0.035198  0.003593   \n",
              "clock_speed         0.011482  0.021419     1.000000 -0.001315 -0.000434   \n",
              "dual_sim           -0.041847  0.035198    -0.001315  1.000000 -0.029123   \n",
              "fc                  0.033334  0.003593    -0.000434 -0.029123  1.000000   \n",
              "four_g              0.015665  0.013443    -0.043073  0.003187 -0.016560   \n",
              "int_memory         -0.004004  0.041177     0.006545 -0.015679 -0.029133   \n",
              "m_dep               0.034085  0.004049    -0.014364 -0.022142 -0.001791   \n",
              "mobile_wt           0.001844 -0.008605     0.012350 -0.008979  0.023618   \n",
              "n_cores            -0.029727  0.036161    -0.005724 -0.024658 -0.013356   \n",
              "pc                  0.031441 -0.009952    -0.005245 -0.017143  0.644595   \n",
              "px_height           0.014901 -0.006872    -0.014523 -0.020875 -0.009990   \n",
              "px_width           -0.008402 -0.041533    -0.009476  0.014291 -0.005176   \n",
              "ram                -0.000653  0.026351     0.003443  0.041072  0.015099   \n",
              "sc_h               -0.029959 -0.002952    -0.029078 -0.011949 -0.011014   \n",
              "sc_w               -0.021421  0.000613    -0.007378 -0.016666 -0.012373   \n",
              "talk_time           0.052510  0.013934    -0.011432 -0.039404 -0.006829   \n",
              "three_g             0.011522 -0.030236    -0.046433 -0.014008  0.001793   \n",
              "touch_screen       -0.010516  0.010061     0.019756 -0.017117 -0.014828   \n",
              "wifi               -0.008343 -0.021863    -0.024471  0.022740  0.020085   \n",
              "price_range         0.200723  0.020573    -0.006606  0.017444  0.021998   \n",
              "\n",
              "                 four_g  int_memory     m_dep  mobile_wt   n_cores  ...  \\\n",
              "battery_power  0.015665   -0.004004  0.034085   0.001844 -0.029727  ...   \n",
              "blue           0.013443    0.041177  0.004049  -0.008605  0.036161  ...   \n",
              "clock_speed   -0.043073    0.006545 -0.014364   0.012350 -0.005724  ...   \n",
              "dual_sim       0.003187   -0.015679 -0.022142  -0.008979 -0.024658  ...   \n",
              "fc            -0.016560   -0.029133 -0.001791   0.023618 -0.013356  ...   \n",
              "four_g         1.000000    0.008690 -0.001823  -0.016537 -0.029706  ...   \n",
              "int_memory     0.008690    1.000000  0.006886  -0.034214 -0.028310  ...   \n",
              "m_dep         -0.001823    0.006886  1.000000   0.021756 -0.003504  ...   \n",
              "mobile_wt     -0.016537   -0.034214  0.021756   1.000000 -0.018989  ...   \n",
              "n_cores       -0.029706   -0.028310 -0.003504  -0.018989  1.000000  ...   \n",
              "pc            -0.005598   -0.033273  0.026282   0.018844 -0.001193  ...   \n",
              "px_height     -0.019236    0.010441  0.025263   0.000939 -0.006872  ...   \n",
              "px_width       0.007448   -0.008335  0.023566   0.000090  0.024480  ...   \n",
              "ram            0.007313    0.032813 -0.009434  -0.002581  0.004868  ...   \n",
              "sc_h           0.027166    0.037771 -0.025348  -0.033855 -0.000315  ...   \n",
              "sc_w           0.037005    0.011731 -0.018388  -0.020761  0.025826  ...   \n",
              "talk_time     -0.046628   -0.002790  0.017003   0.006209  0.013148  ...   \n",
              "three_g        0.584246   -0.009366 -0.012065   0.001551 -0.014733  ...   \n",
              "touch_screen   0.016758   -0.026999 -0.002638  -0.014368  0.023774  ...   \n",
              "wifi          -0.017620    0.006993 -0.028353  -0.000409 -0.009964  ...   \n",
              "price_range    0.014772    0.044435  0.000853  -0.030302  0.004399  ...   \n",
              "\n",
              "               px_height  px_width       ram      sc_h      sc_w  talk_time  \\\n",
              "battery_power   0.014901 -0.008402 -0.000653 -0.029959 -0.021421   0.052510   \n",
              "blue           -0.006872 -0.041533  0.026351 -0.002952  0.000613   0.013934   \n",
              "clock_speed    -0.014523 -0.009476  0.003443 -0.029078 -0.007378  -0.011432   \n",
              "dual_sim       -0.020875  0.014291  0.041072 -0.011949 -0.016666  -0.039404   \n",
              "fc             -0.009990 -0.005176  0.015099 -0.011014 -0.012373  -0.006829   \n",
              "four_g         -0.019236  0.007448  0.007313  0.027166  0.037005  -0.046628   \n",
              "int_memory      0.010441 -0.008335  0.032813  0.037771  0.011731  -0.002790   \n",
              "m_dep           0.025263  0.023566 -0.009434 -0.025348 -0.018388   0.017003   \n",
              "mobile_wt       0.000939  0.000090 -0.002581 -0.033855 -0.020761   0.006209   \n",
              "n_cores        -0.006872  0.024480  0.004868 -0.000315  0.025826   0.013148   \n",
              "pc             -0.018465  0.004196  0.028984  0.004938 -0.023819   0.014657   \n",
              "px_height       1.000000  0.510664 -0.020352  0.059615  0.043038  -0.010645   \n",
              "px_width        0.510664  1.000000  0.004105  0.021599  0.034699   0.006720   \n",
              "ram            -0.020352  0.004105  1.000000  0.015996  0.035576   0.010820   \n",
              "sc_h            0.059615  0.021599  0.015996  1.000000  0.506144  -0.017335   \n",
              "sc_w            0.043038  0.034699  0.035576  0.506144  1.000000  -0.022821   \n",
              "talk_time      -0.010645  0.006720  0.010820 -0.017335 -0.022821   1.000000   \n",
              "three_g        -0.031174  0.000350  0.015795  0.012033  0.030941  -0.042688   \n",
              "touch_screen    0.021891 -0.001628 -0.030455 -0.020023  0.012720   0.017196   \n",
              "wifi            0.051824  0.030319  0.022669  0.025929  0.035423  -0.029504   \n",
              "price_range     0.148858  0.165818  0.917046  0.022986  0.038711   0.021859   \n",
              "\n",
              "                three_g  touch_screen      wifi  price_range  \n",
              "battery_power  0.011522     -0.010516 -0.008343     0.200723  \n",
              "blue          -0.030236      0.010061 -0.021863     0.020573  \n",
              "clock_speed   -0.046433      0.019756 -0.024471    -0.006606  \n",
              "dual_sim      -0.014008     -0.017117  0.022740     0.017444  \n",
              "fc             0.001793     -0.014828  0.020085     0.021998  \n",
              "four_g         0.584246      0.016758 -0.017620     0.014772  \n",
              "int_memory    -0.009366     -0.026999  0.006993     0.044435  \n",
              "m_dep         -0.012065     -0.002638 -0.028353     0.000853  \n",
              "mobile_wt      0.001551     -0.014368 -0.000409    -0.030302  \n",
              "n_cores       -0.014733      0.023774 -0.009964     0.004399  \n",
              "pc            -0.001322     -0.008742  0.005389     0.033599  \n",
              "px_height     -0.031174      0.021891  0.051824     0.148858  \n",
              "px_width       0.000350     -0.001628  0.030319     0.165818  \n",
              "ram            0.015795     -0.030455  0.022669     0.917046  \n",
              "sc_h           0.012033     -0.020023  0.025929     0.022986  \n",
              "sc_w           0.030941      0.012720  0.035423     0.038711  \n",
              "talk_time     -0.042688      0.017196 -0.029504     0.021859  \n",
              "three_g        1.000000      0.013917  0.004316     0.023611  \n",
              "touch_screen   0.013917      1.000000  0.011917    -0.030411  \n",
              "wifi           0.004316      0.011917  1.000000     0.018785  \n",
              "price_range    0.023611     -0.030411  0.018785     1.000000  \n",
              "\n",
              "[21 rows x 21 columns]"
            ],
            "text/html": [
              "\n",
              "  <div id=\"df-d671b385-5949-42b3-a2aa-01f644b921ee\">\n",
              "    <div class=\"colab-df-container\">\n",
              "      <div>\n",
              "<style scoped>\n",
              "    .dataframe tbody tr th:only-of-type {\n",
              "        vertical-align: middle;\n",
              "    }\n",
              "\n",
              "    .dataframe tbody tr th {\n",
              "        vertical-align: top;\n",
              "    }\n",
              "\n",
              "    .dataframe thead th {\n",
              "        text-align: right;\n",
              "    }\n",
              "</style>\n",
              "<table border=\"1\" class=\"dataframe\">\n",
              "  <thead>\n",
              "    <tr style=\"text-align: right;\">\n",
              "      <th></th>\n",
              "      <th>battery_power</th>\n",
              "      <th>blue</th>\n",
              "      <th>clock_speed</th>\n",
              "      <th>dual_sim</th>\n",
              "      <th>fc</th>\n",
              "      <th>four_g</th>\n",
              "      <th>int_memory</th>\n",
              "      <th>m_dep</th>\n",
              "      <th>mobile_wt</th>\n",
              "      <th>n_cores</th>\n",
              "      <th>...</th>\n",
              "      <th>px_height</th>\n",
              "      <th>px_width</th>\n",
              "      <th>ram</th>\n",
              "      <th>sc_h</th>\n",
              "      <th>sc_w</th>\n",
              "      <th>talk_time</th>\n",
              "      <th>three_g</th>\n",
              "      <th>touch_screen</th>\n",
              "      <th>wifi</th>\n",
              "      <th>price_range</th>\n",
              "    </tr>\n",
              "  </thead>\n",
              "  <tbody>\n",
              "    <tr>\n",
              "      <th>battery_power</th>\n",
              "      <td>1.000000</td>\n",
              "      <td>0.011252</td>\n",
              "      <td>0.011482</td>\n",
              "      <td>-0.041847</td>\n",
              "      <td>0.033334</td>\n",
              "      <td>0.015665</td>\n",
              "      <td>-0.004004</td>\n",
              "      <td>0.034085</td>\n",
              "      <td>0.001844</td>\n",
              "      <td>-0.029727</td>\n",
              "      <td>...</td>\n",
              "      <td>0.014901</td>\n",
              "      <td>-0.008402</td>\n",
              "      <td>-0.000653</td>\n",
              "      <td>-0.029959</td>\n",
              "      <td>-0.021421</td>\n",
              "      <td>0.052510</td>\n",
              "      <td>0.011522</td>\n",
              "      <td>-0.010516</td>\n",
              "      <td>-0.008343</td>\n",
              "      <td>0.200723</td>\n",
              "    </tr>\n",
              "    <tr>\n",
              "      <th>blue</th>\n",
              "      <td>0.011252</td>\n",
              "      <td>1.000000</td>\n",
              "      <td>0.021419</td>\n",
              "      <td>0.035198</td>\n",
              "      <td>0.003593</td>\n",
              "      <td>0.013443</td>\n",
              "      <td>0.041177</td>\n",
              "      <td>0.004049</td>\n",
              "      <td>-0.008605</td>\n",
              "      <td>0.036161</td>\n",
              "      <td>...</td>\n",
              "      <td>-0.006872</td>\n",
              "      <td>-0.041533</td>\n",
              "      <td>0.026351</td>\n",
              "      <td>-0.002952</td>\n",
              "      <td>0.000613</td>\n",
              "      <td>0.013934</td>\n",
              "      <td>-0.030236</td>\n",
              "      <td>0.010061</td>\n",
              "      <td>-0.021863</td>\n",
              "      <td>0.020573</td>\n",
              "    </tr>\n",
              "    <tr>\n",
              "      <th>clock_speed</th>\n",
              "      <td>0.011482</td>\n",
              "      <td>0.021419</td>\n",
              "      <td>1.000000</td>\n",
              "      <td>-0.001315</td>\n",
              "      <td>-0.000434</td>\n",
              "      <td>-0.043073</td>\n",
              "      <td>0.006545</td>\n",
              "      <td>-0.014364</td>\n",
              "      <td>0.012350</td>\n",
              "      <td>-0.005724</td>\n",
              "      <td>...</td>\n",
              "      <td>-0.014523</td>\n",
              "      <td>-0.009476</td>\n",
              "      <td>0.003443</td>\n",
              "      <td>-0.029078</td>\n",
              "      <td>-0.007378</td>\n",
              "      <td>-0.011432</td>\n",
              "      <td>-0.046433</td>\n",
              "      <td>0.019756</td>\n",
              "      <td>-0.024471</td>\n",
              "      <td>-0.006606</td>\n",
              "    </tr>\n",
              "    <tr>\n",
              "      <th>dual_sim</th>\n",
              "      <td>-0.041847</td>\n",
              "      <td>0.035198</td>\n",
              "      <td>-0.001315</td>\n",
              "      <td>1.000000</td>\n",
              "      <td>-0.029123</td>\n",
              "      <td>0.003187</td>\n",
              "      <td>-0.015679</td>\n",
              "      <td>-0.022142</td>\n",
              "      <td>-0.008979</td>\n",
              "      <td>-0.024658</td>\n",
              "      <td>...</td>\n",
              "      <td>-0.020875</td>\n",
              "      <td>0.014291</td>\n",
              "      <td>0.041072</td>\n",
              "      <td>-0.011949</td>\n",
              "      <td>-0.016666</td>\n",
              "      <td>-0.039404</td>\n",
              "      <td>-0.014008</td>\n",
              "      <td>-0.017117</td>\n",
              "      <td>0.022740</td>\n",
              "      <td>0.017444</td>\n",
              "    </tr>\n",
              "    <tr>\n",
              "      <th>fc</th>\n",
              "      <td>0.033334</td>\n",
              "      <td>0.003593</td>\n",
              "      <td>-0.000434</td>\n",
              "      <td>-0.029123</td>\n",
              "      <td>1.000000</td>\n",
              "      <td>-0.016560</td>\n",
              "      <td>-0.029133</td>\n",
              "      <td>-0.001791</td>\n",
              "      <td>0.023618</td>\n",
              "      <td>-0.013356</td>\n",
              "      <td>...</td>\n",
              "      <td>-0.009990</td>\n",
              "      <td>-0.005176</td>\n",
              "      <td>0.015099</td>\n",
              "      <td>-0.011014</td>\n",
              "      <td>-0.012373</td>\n",
              "      <td>-0.006829</td>\n",
              "      <td>0.001793</td>\n",
              "      <td>-0.014828</td>\n",
              "      <td>0.020085</td>\n",
              "      <td>0.021998</td>\n",
              "    </tr>\n",
              "    <tr>\n",
              "      <th>four_g</th>\n",
              "      <td>0.015665</td>\n",
              "      <td>0.013443</td>\n",
              "      <td>-0.043073</td>\n",
              "      <td>0.003187</td>\n",
              "      <td>-0.016560</td>\n",
              "      <td>1.000000</td>\n",
              "      <td>0.008690</td>\n",
              "      <td>-0.001823</td>\n",
              "      <td>-0.016537</td>\n",
              "      <td>-0.029706</td>\n",
              "      <td>...</td>\n",
              "      <td>-0.019236</td>\n",
              "      <td>0.007448</td>\n",
              "      <td>0.007313</td>\n",
              "      <td>0.027166</td>\n",
              "      <td>0.037005</td>\n",
              "      <td>-0.046628</td>\n",
              "      <td>0.584246</td>\n",
              "      <td>0.016758</td>\n",
              "      <td>-0.017620</td>\n",
              "      <td>0.014772</td>\n",
              "    </tr>\n",
              "    <tr>\n",
              "      <th>int_memory</th>\n",
              "      <td>-0.004004</td>\n",
              "      <td>0.041177</td>\n",
              "      <td>0.006545</td>\n",
              "      <td>-0.015679</td>\n",
              "      <td>-0.029133</td>\n",
              "      <td>0.008690</td>\n",
              "      <td>1.000000</td>\n",
              "      <td>0.006886</td>\n",
              "      <td>-0.034214</td>\n",
              "      <td>-0.028310</td>\n",
              "      <td>...</td>\n",
              "      <td>0.010441</td>\n",
              "      <td>-0.008335</td>\n",
              "      <td>0.032813</td>\n",
              "      <td>0.037771</td>\n",
              "      <td>0.011731</td>\n",
              "      <td>-0.002790</td>\n",
              "      <td>-0.009366</td>\n",
              "      <td>-0.026999</td>\n",
              "      <td>0.006993</td>\n",
              "      <td>0.044435</td>\n",
              "    </tr>\n",
              "    <tr>\n",
              "      <th>m_dep</th>\n",
              "      <td>0.034085</td>\n",
              "      <td>0.004049</td>\n",
              "      <td>-0.014364</td>\n",
              "      <td>-0.022142</td>\n",
              "      <td>-0.001791</td>\n",
              "      <td>-0.001823</td>\n",
              "      <td>0.006886</td>\n",
              "      <td>1.000000</td>\n",
              "      <td>0.021756</td>\n",
              "      <td>-0.003504</td>\n",
              "      <td>...</td>\n",
              "      <td>0.025263</td>\n",
              "      <td>0.023566</td>\n",
              "      <td>-0.009434</td>\n",
              "      <td>-0.025348</td>\n",
              "      <td>-0.018388</td>\n",
              "      <td>0.017003</td>\n",
              "      <td>-0.012065</td>\n",
              "      <td>-0.002638</td>\n",
              "      <td>-0.028353</td>\n",
              "      <td>0.000853</td>\n",
              "    </tr>\n",
              "    <tr>\n",
              "      <th>mobile_wt</th>\n",
              "      <td>0.001844</td>\n",
              "      <td>-0.008605</td>\n",
              "      <td>0.012350</td>\n",
              "      <td>-0.008979</td>\n",
              "      <td>0.023618</td>\n",
              "      <td>-0.016537</td>\n",
              "      <td>-0.034214</td>\n",
              "      <td>0.021756</td>\n",
              "      <td>1.000000</td>\n",
              "      <td>-0.018989</td>\n",
              "      <td>...</td>\n",
              "      <td>0.000939</td>\n",
              "      <td>0.000090</td>\n",
              "      <td>-0.002581</td>\n",
              "      <td>-0.033855</td>\n",
              "      <td>-0.020761</td>\n",
              "      <td>0.006209</td>\n",
              "      <td>0.001551</td>\n",
              "      <td>-0.014368</td>\n",
              "      <td>-0.000409</td>\n",
              "      <td>-0.030302</td>\n",
              "    </tr>\n",
              "    <tr>\n",
              "      <th>n_cores</th>\n",
              "      <td>-0.029727</td>\n",
              "      <td>0.036161</td>\n",
              "      <td>-0.005724</td>\n",
              "      <td>-0.024658</td>\n",
              "      <td>-0.013356</td>\n",
              "      <td>-0.029706</td>\n",
              "      <td>-0.028310</td>\n",
              "      <td>-0.003504</td>\n",
              "      <td>-0.018989</td>\n",
              "      <td>1.000000</td>\n",
              "      <td>...</td>\n",
              "      <td>-0.006872</td>\n",
              "      <td>0.024480</td>\n",
              "      <td>0.004868</td>\n",
              "      <td>-0.000315</td>\n",
              "      <td>0.025826</td>\n",
              "      <td>0.013148</td>\n",
              "      <td>-0.014733</td>\n",
              "      <td>0.023774</td>\n",
              "      <td>-0.009964</td>\n",
              "      <td>0.004399</td>\n",
              "    </tr>\n",
              "    <tr>\n",
              "      <th>pc</th>\n",
              "      <td>0.031441</td>\n",
              "      <td>-0.009952</td>\n",
              "      <td>-0.005245</td>\n",
              "      <td>-0.017143</td>\n",
              "      <td>0.644595</td>\n",
              "      <td>-0.005598</td>\n",
              "      <td>-0.033273</td>\n",
              "      <td>0.026282</td>\n",
              "      <td>0.018844</td>\n",
              "      <td>-0.001193</td>\n",
              "      <td>...</td>\n",
              "      <td>-0.018465</td>\n",
              "      <td>0.004196</td>\n",
              "      <td>0.028984</td>\n",
              "      <td>0.004938</td>\n",
              "      <td>-0.023819</td>\n",
              "      <td>0.014657</td>\n",
              "      <td>-0.001322</td>\n",
              "      <td>-0.008742</td>\n",
              "      <td>0.005389</td>\n",
              "      <td>0.033599</td>\n",
              "    </tr>\n",
              "    <tr>\n",
              "      <th>px_height</th>\n",
              "      <td>0.014901</td>\n",
              "      <td>-0.006872</td>\n",
              "      <td>-0.014523</td>\n",
              "      <td>-0.020875</td>\n",
              "      <td>-0.009990</td>\n",
              "      <td>-0.019236</td>\n",
              "      <td>0.010441</td>\n",
              "      <td>0.025263</td>\n",
              "      <td>0.000939</td>\n",
              "      <td>-0.006872</td>\n",
              "      <td>...</td>\n",
              "      <td>1.000000</td>\n",
              "      <td>0.510664</td>\n",
              "      <td>-0.020352</td>\n",
              "      <td>0.059615</td>\n",
              "      <td>0.043038</td>\n",
              "      <td>-0.010645</td>\n",
              "      <td>-0.031174</td>\n",
              "      <td>0.021891</td>\n",
              "      <td>0.051824</td>\n",
              "      <td>0.148858</td>\n",
              "    </tr>\n",
              "    <tr>\n",
              "      <th>px_width</th>\n",
              "      <td>-0.008402</td>\n",
              "      <td>-0.041533</td>\n",
              "      <td>-0.009476</td>\n",
              "      <td>0.014291</td>\n",
              "      <td>-0.005176</td>\n",
              "      <td>0.007448</td>\n",
              "      <td>-0.008335</td>\n",
              "      <td>0.023566</td>\n",
              "      <td>0.000090</td>\n",
              "      <td>0.024480</td>\n",
              "      <td>...</td>\n",
              "      <td>0.510664</td>\n",
              "      <td>1.000000</td>\n",
              "      <td>0.004105</td>\n",
              "      <td>0.021599</td>\n",
              "      <td>0.034699</td>\n",
              "      <td>0.006720</td>\n",
              "      <td>0.000350</td>\n",
              "      <td>-0.001628</td>\n",
              "      <td>0.030319</td>\n",
              "      <td>0.165818</td>\n",
              "    </tr>\n",
              "    <tr>\n",
              "      <th>ram</th>\n",
              "      <td>-0.000653</td>\n",
              "      <td>0.026351</td>\n",
              "      <td>0.003443</td>\n",
              "      <td>0.041072</td>\n",
              "      <td>0.015099</td>\n",
              "      <td>0.007313</td>\n",
              "      <td>0.032813</td>\n",
              "      <td>-0.009434</td>\n",
              "      <td>-0.002581</td>\n",
              "      <td>0.004868</td>\n",
              "      <td>...</td>\n",
              "      <td>-0.020352</td>\n",
              "      <td>0.004105</td>\n",
              "      <td>1.000000</td>\n",
              "      <td>0.015996</td>\n",
              "      <td>0.035576</td>\n",
              "      <td>0.010820</td>\n",
              "      <td>0.015795</td>\n",
              "      <td>-0.030455</td>\n",
              "      <td>0.022669</td>\n",
              "      <td>0.917046</td>\n",
              "    </tr>\n",
              "    <tr>\n",
              "      <th>sc_h</th>\n",
              "      <td>-0.029959</td>\n",
              "      <td>-0.002952</td>\n",
              "      <td>-0.029078</td>\n",
              "      <td>-0.011949</td>\n",
              "      <td>-0.011014</td>\n",
              "      <td>0.027166</td>\n",
              "      <td>0.037771</td>\n",
              "      <td>-0.025348</td>\n",
              "      <td>-0.033855</td>\n",
              "      <td>-0.000315</td>\n",
              "      <td>...</td>\n",
              "      <td>0.059615</td>\n",
              "      <td>0.021599</td>\n",
              "      <td>0.015996</td>\n",
              "      <td>1.000000</td>\n",
              "      <td>0.506144</td>\n",
              "      <td>-0.017335</td>\n",
              "      <td>0.012033</td>\n",
              "      <td>-0.020023</td>\n",
              "      <td>0.025929</td>\n",
              "      <td>0.022986</td>\n",
              "    </tr>\n",
              "    <tr>\n",
              "      <th>sc_w</th>\n",
              "      <td>-0.021421</td>\n",
              "      <td>0.000613</td>\n",
              "      <td>-0.007378</td>\n",
              "      <td>-0.016666</td>\n",
              "      <td>-0.012373</td>\n",
              "      <td>0.037005</td>\n",
              "      <td>0.011731</td>\n",
              "      <td>-0.018388</td>\n",
              "      <td>-0.020761</td>\n",
              "      <td>0.025826</td>\n",
              "      <td>...</td>\n",
              "      <td>0.043038</td>\n",
              "      <td>0.034699</td>\n",
              "      <td>0.035576</td>\n",
              "      <td>0.506144</td>\n",
              "      <td>1.000000</td>\n",
              "      <td>-0.022821</td>\n",
              "      <td>0.030941</td>\n",
              "      <td>0.012720</td>\n",
              "      <td>0.035423</td>\n",
              "      <td>0.038711</td>\n",
              "    </tr>\n",
              "    <tr>\n",
              "      <th>talk_time</th>\n",
              "      <td>0.052510</td>\n",
              "      <td>0.013934</td>\n",
              "      <td>-0.011432</td>\n",
              "      <td>-0.039404</td>\n",
              "      <td>-0.006829</td>\n",
              "      <td>-0.046628</td>\n",
              "      <td>-0.002790</td>\n",
              "      <td>0.017003</td>\n",
              "      <td>0.006209</td>\n",
              "      <td>0.013148</td>\n",
              "      <td>...</td>\n",
              "      <td>-0.010645</td>\n",
              "      <td>0.006720</td>\n",
              "      <td>0.010820</td>\n",
              "      <td>-0.017335</td>\n",
              "      <td>-0.022821</td>\n",
              "      <td>1.000000</td>\n",
              "      <td>-0.042688</td>\n",
              "      <td>0.017196</td>\n",
              "      <td>-0.029504</td>\n",
              "      <td>0.021859</td>\n",
              "    </tr>\n",
              "    <tr>\n",
              "      <th>three_g</th>\n",
              "      <td>0.011522</td>\n",
              "      <td>-0.030236</td>\n",
              "      <td>-0.046433</td>\n",
              "      <td>-0.014008</td>\n",
              "      <td>0.001793</td>\n",
              "      <td>0.584246</td>\n",
              "      <td>-0.009366</td>\n",
              "      <td>-0.012065</td>\n",
              "      <td>0.001551</td>\n",
              "      <td>-0.014733</td>\n",
              "      <td>...</td>\n",
              "      <td>-0.031174</td>\n",
              "      <td>0.000350</td>\n",
              "      <td>0.015795</td>\n",
              "      <td>0.012033</td>\n",
              "      <td>0.030941</td>\n",
              "      <td>-0.042688</td>\n",
              "      <td>1.000000</td>\n",
              "      <td>0.013917</td>\n",
              "      <td>0.004316</td>\n",
              "      <td>0.023611</td>\n",
              "    </tr>\n",
              "    <tr>\n",
              "      <th>touch_screen</th>\n",
              "      <td>-0.010516</td>\n",
              "      <td>0.010061</td>\n",
              "      <td>0.019756</td>\n",
              "      <td>-0.017117</td>\n",
              "      <td>-0.014828</td>\n",
              "      <td>0.016758</td>\n",
              "      <td>-0.026999</td>\n",
              "      <td>-0.002638</td>\n",
              "      <td>-0.014368</td>\n",
              "      <td>0.023774</td>\n",
              "      <td>...</td>\n",
              "      <td>0.021891</td>\n",
              "      <td>-0.001628</td>\n",
              "      <td>-0.030455</td>\n",
              "      <td>-0.020023</td>\n",
              "      <td>0.012720</td>\n",
              "      <td>0.017196</td>\n",
              "      <td>0.013917</td>\n",
              "      <td>1.000000</td>\n",
              "      <td>0.011917</td>\n",
              "      <td>-0.030411</td>\n",
              "    </tr>\n",
              "    <tr>\n",
              "      <th>wifi</th>\n",
              "      <td>-0.008343</td>\n",
              "      <td>-0.021863</td>\n",
              "      <td>-0.024471</td>\n",
              "      <td>0.022740</td>\n",
              "      <td>0.020085</td>\n",
              "      <td>-0.017620</td>\n",
              "      <td>0.006993</td>\n",
              "      <td>-0.028353</td>\n",
              "      <td>-0.000409</td>\n",
              "      <td>-0.009964</td>\n",
              "      <td>...</td>\n",
              "      <td>0.051824</td>\n",
              "      <td>0.030319</td>\n",
              "      <td>0.022669</td>\n",
              "      <td>0.025929</td>\n",
              "      <td>0.035423</td>\n",
              "      <td>-0.029504</td>\n",
              "      <td>0.004316</td>\n",
              "      <td>0.011917</td>\n",
              "      <td>1.000000</td>\n",
              "      <td>0.018785</td>\n",
              "    </tr>\n",
              "    <tr>\n",
              "      <th>price_range</th>\n",
              "      <td>0.200723</td>\n",
              "      <td>0.020573</td>\n",
              "      <td>-0.006606</td>\n",
              "      <td>0.017444</td>\n",
              "      <td>0.021998</td>\n",
              "      <td>0.014772</td>\n",
              "      <td>0.044435</td>\n",
              "      <td>0.000853</td>\n",
              "      <td>-0.030302</td>\n",
              "      <td>0.004399</td>\n",
              "      <td>...</td>\n",
              "      <td>0.148858</td>\n",
              "      <td>0.165818</td>\n",
              "      <td>0.917046</td>\n",
              "      <td>0.022986</td>\n",
              "      <td>0.038711</td>\n",
              "      <td>0.021859</td>\n",
              "      <td>0.023611</td>\n",
              "      <td>-0.030411</td>\n",
              "      <td>0.018785</td>\n",
              "      <td>1.000000</td>\n",
              "    </tr>\n",
              "  </tbody>\n",
              "</table>\n",
              "<p>21 rows × 21 columns</p>\n",
              "</div>\n",
              "      <button class=\"colab-df-convert\" onclick=\"convertToInteractive('df-d671b385-5949-42b3-a2aa-01f644b921ee')\"\n",
              "              title=\"Convert this dataframe to an interactive table.\"\n",
              "              style=\"display:none;\">\n",
              "        \n",
              "  <svg xmlns=\"http://www.w3.org/2000/svg\" height=\"24px\"viewBox=\"0 0 24 24\"\n",
              "       width=\"24px\">\n",
              "    <path d=\"M0 0h24v24H0V0z\" fill=\"none\"/>\n",
              "    <path d=\"M18.56 5.44l.94 2.06.94-2.06 2.06-.94-2.06-.94-.94-2.06-.94 2.06-2.06.94zm-11 1L8.5 8.5l.94-2.06 2.06-.94-2.06-.94L8.5 2.5l-.94 2.06-2.06.94zm10 10l.94 2.06.94-2.06 2.06-.94-2.06-.94-.94-2.06-.94 2.06-2.06.94z\"/><path d=\"M17.41 7.96l-1.37-1.37c-.4-.4-.92-.59-1.43-.59-.52 0-1.04.2-1.43.59L10.3 9.45l-7.72 7.72c-.78.78-.78 2.05 0 2.83L4 21.41c.39.39.9.59 1.41.59.51 0 1.02-.2 1.41-.59l7.78-7.78 2.81-2.81c.8-.78.8-2.07 0-2.86zM5.41 20L4 18.59l7.72-7.72 1.47 1.35L5.41 20z\"/>\n",
              "  </svg>\n",
              "      </button>\n",
              "      \n",
              "  <style>\n",
              "    .colab-df-container {\n",
              "      display:flex;\n",
              "      flex-wrap:wrap;\n",
              "      gap: 12px;\n",
              "    }\n",
              "\n",
              "    .colab-df-convert {\n",
              "      background-color: #E8F0FE;\n",
              "      border: none;\n",
              "      border-radius: 50%;\n",
              "      cursor: pointer;\n",
              "      display: none;\n",
              "      fill: #1967D2;\n",
              "      height: 32px;\n",
              "      padding: 0 0 0 0;\n",
              "      width: 32px;\n",
              "    }\n",
              "\n",
              "    .colab-df-convert:hover {\n",
              "      background-color: #E2EBFA;\n",
              "      box-shadow: 0px 1px 2px rgba(60, 64, 67, 0.3), 0px 1px 3px 1px rgba(60, 64, 67, 0.15);\n",
              "      fill: #174EA6;\n",
              "    }\n",
              "\n",
              "    [theme=dark] .colab-df-convert {\n",
              "      background-color: #3B4455;\n",
              "      fill: #D2E3FC;\n",
              "    }\n",
              "\n",
              "    [theme=dark] .colab-df-convert:hover {\n",
              "      background-color: #434B5C;\n",
              "      box-shadow: 0px 1px 3px 1px rgba(0, 0, 0, 0.15);\n",
              "      filter: drop-shadow(0px 1px 2px rgba(0, 0, 0, 0.3));\n",
              "      fill: #FFFFFF;\n",
              "    }\n",
              "  </style>\n",
              "\n",
              "      <script>\n",
              "        const buttonEl =\n",
              "          document.querySelector('#df-d671b385-5949-42b3-a2aa-01f644b921ee button.colab-df-convert');\n",
              "        buttonEl.style.display =\n",
              "          google.colab.kernel.accessAllowed ? 'block' : 'none';\n",
              "\n",
              "        async function convertToInteractive(key) {\n",
              "          const element = document.querySelector('#df-d671b385-5949-42b3-a2aa-01f644b921ee');\n",
              "          const dataTable =\n",
              "            await google.colab.kernel.invokeFunction('convertToInteractive',\n",
              "                                                     [key], {});\n",
              "          if (!dataTable) return;\n",
              "\n",
              "          const docLinkHtml = 'Like what you see? Visit the ' +\n",
              "            '<a target=\"_blank\" href=https://colab.research.google.com/notebooks/data_table.ipynb>data table notebook</a>'\n",
              "            + ' to learn more about interactive tables.';\n",
              "          element.innerHTML = '';\n",
              "          dataTable['output_type'] = 'display_data';\n",
              "          await google.colab.output.renderOutput(dataTable, element);\n",
              "          const docLink = document.createElement('div');\n",
              "          docLink.innerHTML = docLinkHtml;\n",
              "          element.appendChild(docLink);\n",
              "        }\n",
              "      </script>\n",
              "    </div>\n",
              "  </div>\n",
              "  "
            ]
          },
          "metadata": {},
          "execution_count": 12
        }
      ]
    },
    {
      "cell_type": "code",
      "source": [
        "import seaborn as sns\n",
        "import matplotlib.pyplot as plt\n",
        "corr=data.corr()\n",
        "fig = plt.figure(figsize=(15,12))\n",
        "r = sns.heatmap(corr, cmap='Reds')\n",
        "r.set_title(\"Correlation \")"
      ],
      "metadata": {
        "colab": {
          "base_uri": "https://localhost:8080/",
          "height": 796
        },
        "id": "6Ybycv4njZ5i",
        "outputId": "03630d10-1566-480b-c24a-4bfdb5d72e2d"
      },
      "execution_count": 13,
      "outputs": [
        {
          "output_type": "execute_result",
          "data": {
            "text/plain": [
              "Text(0.5, 1.0, 'Correlation ')"
            ]
          },
          "metadata": {},
          "execution_count": 13
        },
        {
          "output_type": "display_data",
          "data": {
            "text/plain": [
              "<Figure size 1080x864 with 2 Axes>"
            ],
            "image/png": "[encoded data removed]"
          },
          "metadata": {
            "needs_background": "light"
          }
        }
      ]
    },
    {
      "cell_type": "code",
      "source": [
        "#price range correlation\n",
        "corr.sort_values(by=[\"price_range\"],ascending=False).iloc[0].sort_values(ascending=False)"
      ],
      "metadata": {
        "colab": {
          "base_uri": "https://localhost:8080/"
        },
        "id": "4UH8vkZAjfAn",
        "outputId": "d864c133-ad12-4411-e0a7-35a6e3877805"
      },
      "execution_count": 14,
      "outputs": [
        {
          "output_type": "execute_result",
          "data": {
            "text/plain": [
              "price_range      1.000000\n",
              "ram              0.917046\n",
              "battery_power    0.200723\n",
              "px_width         0.165818\n",
              "px_height        0.148858\n",
              "int_memory       0.044435\n",
              "sc_w             0.038711\n",
              "pc               0.033599\n",
              "three_g          0.023611\n",
              "sc_h             0.022986\n",
              "fc               0.021998\n",
              "talk_time        0.021859\n",
              "blue             0.020573\n",
              "wifi             0.018785\n",
              "dual_sim         0.017444\n",
              "four_g           0.014772\n",
              "n_cores          0.004399\n",
              "m_dep            0.000853\n",
              "clock_speed     -0.006606\n",
              "mobile_wt       -0.030302\n",
              "touch_screen    -0.030411\n",
              "Name: price_range, dtype: float64"
            ]
          },
          "metadata": {},
          "execution_count": 14
        }
      ]
    },
    {
      "cell_type": "code",
      "source": [
        "y = data[\"price_range\"].values\n",
        "x_data=data.drop([\"price_range\"],axis=1)\n",
        "# x = (x_data-np.min(x_data))/(np.max(x_data)-np.min(x_data))\n",
        "from sklearn.model_selection import train_test_split\n",
        "x_train, x_test, y_train, y_test = train_test_split(x_data,y,test_size = 0.2,random_state=3)"
      ],
      "metadata": {
        "id": "a99MwNHus9kT"
      },
      "execution_count": 15,
      "outputs": []
    },
    {
      "cell_type": "code",
      "source": [
        "from yellowbrick.target import ClassBalance\n",
        "visualizer = ClassBalance(labels=[0, 1, 2,3])\n",
        "visualizer.fit(y_train, y_test)\n",
        "visualizer.poof()"
      ],
      "metadata": {
        "colab": {
          "base_uri": "https://localhost:8080/",
          "height": 380
        },
        "id": "bUXcvBkPtBPu",
        "outputId": "579d343b-1303-4d39-c8aa-45a2fff281e9"
      },
      "execution_count": 16,
      "outputs": [
        {
          "output_type": "display_data",
          "data": {
            "text/plain": [
              "<Figure size 576x396 with 1 Axes>"
            ],
            "image/png": "[encoded data removed]"
          },
          "metadata": {}
        },
        {
          "output_type": "execute_result",
          "data": {
            "text/plain": [
              "<matplotlib.axes._subplots.AxesSubplot at 0x7f5becb5f750>"
            ]
          },
          "metadata": {},
          "execution_count": 16
        }
      ]
    },
    {
      "cell_type": "markdown",
      "source": [
        "#SVM"
      ],
      "metadata": {
        "id": "RPYvXPxzwAaw"
      }
    },
    {
      "cell_type": "code",
      "source": [
        "from sklearn.svm import SVC\n",
        "svm=SVC(random_state=1)\n",
        "svm.fit(x_train,y_train)\n",
        "print(\"train accuracy:\",svm.score(x_train,y_train))\n",
        "print(\"test accuracy:\",svm.score(x_test,y_test))"
      ],
      "metadata": {
        "colab": {
          "base_uri": "https://localhost:8080/"
        },
        "id": "qGDMkCTPtFdm",
        "outputId": "a698eb71-93d2-4888-bfcd-63a61204ada8"
      },
      "execution_count": 17,
      "outputs": [
        {
          "output_type": "stream",
          "name": "stdout",
          "text": [
            "train accuracy: 0.95375\n",
            "test accuracy: 0.955\n"
          ]
        }
      ]
    },
    {
      "cell_type": "code",
      "source": [
        "from sklearn.metrics import classification_report,confusion_matrix"
      ],
      "metadata": {
        "id": "AYMWiu9VNY5V"
      },
      "execution_count": 19,
      "outputs": []
    },
    {
      "cell_type": "code",
      "source": [
        "y_pred_svm= svm.predict(x_test)\n",
        "print(classification_report(y_test,y_pred_svm))"
      ],
      "metadata": {
        "colab": {
          "base_uri": "https://localhost:8080/"
        },
        "id": "vvzxsEo2nPEN",
        "outputId": "e21e2429-5388-45f0-be42-a2e057bf77c1"
      },
      "execution_count": 20,
      "outputs": [
        {
          "output_type": "stream",
          "name": "stdout",
          "text": [
            "              precision    recall  f1-score   support\n",
            "\n",
            "           0       0.95      1.00      0.97        94\n",
            "           1       0.97      0.93      0.95       105\n",
            "           2       0.94      0.93      0.93        96\n",
            "           3       0.96      0.96      0.96       105\n",
            "\n",
            "    accuracy                           0.95       400\n",
            "   macro avg       0.95      0.96      0.95       400\n",
            "weighted avg       0.96      0.95      0.95       400\n",
            "\n"
          ]
        }
      ]
    },
    {
      "cell_type": "code",
      "source": [
        "matrix=confusion_matrix(y_test,y_pred_svm)\n",
        "matrix"
      ],
      "metadata": {
        "colab": {
          "base_uri": "https://localhost:8080/"
        },
        "id": "EeflTSinnzbv",
        "outputId": "7157aeff-0371-4347-e2c5-d1da59fe7aa7"
      },
      "execution_count": 21,
      "outputs": [
        {
          "output_type": "execute_result",
          "data": {
            "text/plain": [
              "array([[ 94,   0,   0,   0],\n",
              "       [  5,  98,   2,   0],\n",
              "       [  0,   3,  89,   4],\n",
              "       [  0,   0,   4, 101]])"
            ]
          },
          "metadata": {},
          "execution_count": 21
        }
      ]
    },
    {
      "cell_type": "code",
      "source": [
        "plt.figure(figsize = (10,7))\n",
        "sns.heatmap(matrix,annot=True)"
      ],
      "metadata": {
        "colab": {
          "base_uri": "https://localhost:8080/",
          "height": 447
        },
        "id": "SSLdabJDndJj",
        "outputId": "86b9d7a5-cd57-40eb-e3e5-3cdc94b202eb"
      },
      "execution_count": 22,
      "outputs": [
        {
          "output_type": "execute_result",
          "data": {
            "text/plain": [
              "<matplotlib.axes._subplots.AxesSubplot at 0x7f5bed00a790>"
            ]
          },
          "metadata": {},
          "execution_count": 22
        },
        {
          "output_type": "display_data",
          "data": {
            "text/plain": [
              "<Figure size 720x504 with 2 Axes>"
            ],
            "image/png": "[encoded data removed]"
          },
          "metadata": {}
        }
      ]
    },
    {
      "cell_type": "code",
      "source": [
        "svm.score(x_test,y_test)"
      ],
      "metadata": {
        "colab": {
          "base_uri": "https://localhost:8080/"
        },
        "id": "N5OthbH1NeHw",
        "outputId": "5378d899-708a-47f4-ba05-21c80224012b"
      },
      "execution_count": 24,
      "outputs": [
        {
          "output_type": "execute_result",
          "data": {
            "text/plain": [
              "0.955"
            ]
          },
          "metadata": {},
          "execution_count": 24
        }
      ]
    },
    {
      "cell_type": "markdown",
      "source": [
        "#KNN"
      ],
      "metadata": {
        "id": "o73F4CxuxMzY"
      }
    },
    {
      "cell_type": "code",
      "source": [
        "from sklearn.neighbors import KNeighborsClassifier\n",
        "knn = KNeighborsClassifier(n_neighbors=11)\n",
        "knn.fit(x_train,y_train)\n",
        "y_pred_knn= knn.predict(x_test)"
      ],
      "metadata": {
        "id": "J_KxptIWxO98"
      },
      "execution_count": 25,
      "outputs": []
    },
    {
      "cell_type": "code",
      "source": [
        "visualizer = ClassBalance(labels=[0, 1, 2,3])\n",
        "visualizer.fit(y_pred_knn)"
      ],
      "metadata": {
        "colab": {
          "base_uri": "https://localhost:8080/",
          "height": 383
        },
        "id": "qXxbCoMgyNg7",
        "outputId": "31ede80e-5155-4fc7-94cf-8afb7dec108e"
      },
      "execution_count": 26,
      "outputs": [
        {
          "output_type": "execute_result",
          "data": {
            "text/plain": [
              "ClassBalance(ax=<matplotlib.axes._subplots.AxesSubplot object at 0x7f5becad4490>,\n",
              "             labels=[0, 1, 2, 3])"
            ]
          },
          "metadata": {},
          "execution_count": 26
        },
        {
          "output_type": "display_data",
          "data": {
            "text/plain": [
              "<Figure size 576x396 with 1 Axes>"
            ],
            "image/png": "[encoded data removed]"
          },
          "metadata": {}
        }
      ]
    },
    {
      "cell_type": "code",
      "source": [
        "knn.score(x_test,y_test)"
      ],
      "metadata": {
        "colab": {
          "base_uri": "https://localhost:8080/"
        },
        "id": "jydeCX0rxROh",
        "outputId": "9cabbbfe-2df9-4a85-8f50-af50ef028498"
      },
      "execution_count": 27,
      "outputs": [
        {
          "output_type": "execute_result",
          "data": {
            "text/plain": [
              "0.9425"
            ]
          },
          "metadata": {},
          "execution_count": 27
        }
      ]
    },
    {
      "cell_type": "code",
      "source": [
        "print(classification_report(y_test,y_pred_knn))"
      ],
      "metadata": {
        "colab": {
          "base_uri": "https://localhost:8080/"
        },
        "id": "BD-Y7cw7mMVC",
        "outputId": "fa92f456-dcbb-4ea1-ef52-6b179b8bbb56"
      },
      "execution_count": null,
      "outputs": [
        {
          "output_type": "stream",
          "name": "stdout",
          "text": [
            "              precision    recall  f1-score   support\n",
            "\n",
            "           0       0.98      0.99      0.98        94\n",
            "           1       0.94      0.93      0.94       105\n",
            "           2       0.88      0.92      0.90        96\n",
            "           3       0.97      0.93      0.95       105\n",
            "\n",
            "    accuracy                           0.94       400\n",
            "   macro avg       0.94      0.94      0.94       400\n",
            "weighted avg       0.94      0.94      0.94       400\n",
            "\n"
          ]
        }
      ]
    },
    {
      "cell_type": "code",
      "source": [
        "matrix=confusion_matrix(y_test,y_pred_knn)\n",
        "plt.figure(figsize = (10,7))\n",
        "sns.heatmap(matrix,annot=True)"
      ],
      "metadata": {
        "colab": {
          "base_uri": "https://localhost:8080/",
          "height": 72
        },
        "id": "rcFdMfQOmW25",
        "outputId": "61764e85-a577-4255-e6ef-eb9871597446"
      },
      "execution_count": null,
      "outputs": [
        {
          "output_type": "execute_result",
          "data": {
            "text/plain": [
              "<matplotlib.axes._subplots.AxesSubplot at 0x7f0f47f8bf50>"
            ]
          },
          "metadata": {},
          "execution_count": 203
        },
        {
          "output_type": "display_data",
          "data": {
            "text/plain": [
              "<Figure size 720x504 with 2 Axes>"
            ],
            "image/png": "[encoded data removed]"
          },
          "metadata": {}
        }
      ]
    },
    {
      "cell_type": "markdown",
      "source": [
        "# Elbow Method for optimum value of k "
      ],
      "metadata": {
        "id": "P9oRDMt5N6UM"
      }
    },
    {
      "cell_type": "code",
      "source": [
        "error_rate = []\n",
        "for i in range(1,20):\n",
        "    \n",
        "    knn = KNeighborsClassifier(n_neighbors=i)\n",
        "    knn.fit(x_train,y_train)\n",
        "    pred_i = knn.predict(x_test)\n",
        "    error_rate.append(np.mean(pred_i != y_test))"
      ],
      "metadata": {
        "id": "TtF8PuLdOBEc"
      },
      "execution_count": 29,
      "outputs": []
    },
    {
      "cell_type": "code",
      "source": [
        "plt.figure(figsize=(10,6))\n",
        "plt.plot(range(1,20),error_rate,color='blue', linestyle='dashed', marker='o',\n",
        "         markerfacecolor='red', markersize=5)\n",
        "plt.title('Error Rate vs. K Value')\n",
        "plt.xlabel('K')\n",
        "plt.ylabel('Error Rate')"
      ],
      "metadata": {
        "colab": {
          "base_uri": "https://localhost:8080/",
          "height": 421
        },
        "id": "-QwoKm0fOHF9",
        "outputId": "1a306a0a-e0cf-434c-ec8b-51c117626f42"
      },
      "execution_count": 30,
      "outputs": [
        {
          "output_type": "execute_result",
          "data": {
            "text/plain": [
              "Text(0, 0.5, 'Error Rate')"
            ]
          },
          "metadata": {},
          "execution_count": 30
        },
        {
          "output_type": "display_data",
          "data": {
            "text/plain": [
              "<Figure size 720x432 with 1 Axes>"
            ],
            "image/png": "[encoded data removed]"
          },
          "metadata": {}
        }
      ]
    },
    {
      "cell_type": "code",
      "source": [
        "knn = KNeighborsClassifier(n_neighbors=19)\n",
        "knn.fit(x_train,y_train)\n",
        "y_pred_knn= knn.predict(x_test)"
      ],
      "metadata": {
        "id": "1RaG-95qOwGk"
      },
      "execution_count": 39,
      "outputs": []
    },
    {
      "cell_type": "code",
      "source": [
        "knn.score(x_test,y_test)"
      ],
      "metadata": {
        "colab": {
          "base_uri": "https://localhost:8080/"
        },
        "id": "MArIiM3-OxyO",
        "outputId": "9348020a-075d-4968-d4a4-b79b9bde6480"
      },
      "execution_count": 40,
      "outputs": [
        {
          "output_type": "execute_result",
          "data": {
            "text/plain": [
              "0.945"
            ]
          },
          "metadata": {},
          "execution_count": 40
        }
      ]
    },
    {
      "cell_type": "markdown",
      "source": [
        "# Decision Tree"
      ],
      "metadata": {
        "id": "reQi8zgJwicX"
      }
    },
    {
      "cell_type": "code",
      "source": [
        "from sklearn.tree import DecisionTreeClassifier\n",
        "dtree = DecisionTreeClassifier()"
      ],
      "metadata": {
        "id": "FMXK5hEdwQ2n"
      },
      "execution_count": null,
      "outputs": []
    },
    {
      "cell_type": "code",
      "source": [
        "dtree.fit(x_train,y_train)"
      ],
      "metadata": {
        "colab": {
          "base_uri": "https://localhost:8080/"
        },
        "id": "9MzzY475wtKV",
        "outputId": "d4d7de21-8af2-492f-a463-ad957f9be827"
      },
      "execution_count": null,
      "outputs": [
        {
          "output_type": "execute_result",
          "data": {
            "text/plain": [
              "DecisionTreeClassifier()"
            ]
          },
          "metadata": {},
          "execution_count": 193
        }
      ]
    },
    {
      "cell_type": "code",
      "source": [
        "dtree.score(x_test,y_test)"
      ],
      "metadata": {
        "colab": {
          "base_uri": "https://localhost:8080/"
        },
        "id": "FLWIfL2Iwt9W",
        "outputId": "9a892bf1-e252-4b60-a087-b743a081f38b"
      },
      "execution_count": null,
      "outputs": [
        {
          "output_type": "execute_result",
          "data": {
            "text/plain": [
              "0.8175"
            ]
          },
          "metadata": {},
          "execution_count": 194
        }
      ]
    },
    {
      "cell_type": "code",
      "source": [
        "y_pred_dtree= dtree.predict(x_test)"
      ],
      "metadata": {
        "id": "sJiogBxrmc2k"
      },
      "execution_count": null,
      "outputs": []
    },
    {
      "cell_type": "code",
      "source": [
        "print(classification_report(y_test,y_pred_dtree))"
      ],
      "metadata": {
        "colab": {
          "base_uri": "https://localhost:8080/"
        },
        "id": "0B2aXN1smkju",
        "outputId": "e9d6fb12-e7d7-4dfa-9e93-fb490b72ea50"
      },
      "execution_count": null,
      "outputs": [
        {
          "output_type": "stream",
          "name": "stdout",
          "text": [
            "              precision    recall  f1-score   support\n",
            "\n",
            "           0       0.87      0.93      0.90        94\n",
            "           1       0.82      0.70      0.75       105\n",
            "           2       0.72      0.74      0.73        96\n",
            "           3       0.86      0.91      0.88       105\n",
            "\n",
            "    accuracy                           0.82       400\n",
            "   macro avg       0.82      0.82      0.82       400\n",
            "weighted avg       0.82      0.82      0.82       400\n",
            "\n"
          ]
        }
      ]
    },
    {
      "cell_type": "code",
      "source": [
        "matrix=confusion_matrix(y_test,y_pred_dtree)\n",
        "plt.figure(figsize = (10,7))\n",
        "sns.heatmap(matrix,annot=True)"
      ],
      "metadata": {
        "colab": {
          "base_uri": "https://localhost:8080/",
          "height": 446
        },
        "id": "cUIqUSVVmqjS",
        "outputId": "fe1d5e1e-d13c-4867-cdbf-0eef6068a4e8"
      },
      "execution_count": null,
      "outputs": [
        {
          "output_type": "execute_result",
          "data": {
            "text/plain": [
              "<matplotlib.axes._subplots.AxesSubplot at 0x7f0f4823ff90>"
            ]
          },
          "metadata": {},
          "execution_count": 197
        },
        {
          "output_type": "display_data",
          "data": {
            "text/plain": [
              "<Figure size 720x504 with 2 Axes>"
            ],
            "image/png": "[encoded data removed]"
          },
          "metadata": {}
        }
      ]
    },
    {
      "cell_type": "markdown",
      "source": [
        "# Ramdom Forest"
      ],
      "metadata": {
        "id": "vPLOVQN5w5ch"
      }
    },
    {
      "cell_type": "code",
      "source": [
        "from sklearn.ensemble import RandomForestClassifier\n",
        "rfc = RandomForestClassifier(n_estimators=200)\n",
        "rfc.fit(x_train, y_train)"
      ],
      "metadata": {
        "colab": {
          "base_uri": "https://localhost:8080/"
        },
        "id": "a_9dZf6XwwiZ",
        "outputId": "dc907f22-0d7c-4079-8ae3-4c14a98840b7"
      },
      "execution_count": null,
      "outputs": [
        {
          "output_type": "execute_result",
          "data": {
            "text/plain": [
              "RandomForestClassifier(n_estimators=200)"
            ]
          },
          "metadata": {},
          "execution_count": 204
        }
      ]
    },
    {
      "cell_type": "code",
      "source": [
        "rfc.score(x_test,y_test)"
      ],
      "metadata": {
        "colab": {
          "base_uri": "https://localhost:8080/"
        },
        "id": "IRIUq3i_w9os",
        "outputId": "5b680892-00a9-4ddc-9dc1-3b331cc602d9"
      },
      "execution_count": null,
      "outputs": [
        {
          "output_type": "execute_result",
          "data": {
            "text/plain": [
              "0.88"
            ]
          },
          "metadata": {},
          "execution_count": 205
        }
      ]
    },
    {
      "cell_type": "code",
      "source": [
        "y_pred_rfc = rfc.predict(x_test)"
      ],
      "metadata": {
        "id": "mg3AGSC4ZoYZ"
      },
      "execution_count": null,
      "outputs": []
    },
    {
      "cell_type": "code",
      "source": [
        "print(classification_report(y_test,y_pred_rfc))"
      ],
      "metadata": {
        "colab": {
          "base_uri": "https://localhost:8080/"
        },
        "id": "FpF-7dGVZ_Gc",
        "outputId": "ed912c55-306c-4dce-d144-a2244e4b2e4f"
      },
      "execution_count": null,
      "outputs": [
        {
          "output_type": "stream",
          "name": "stdout",
          "text": [
            "              precision    recall  f1-score   support\n",
            "\n",
            "           0       0.89      0.98      0.93        94\n",
            "           1       0.88      0.80      0.84       105\n",
            "           2       0.81      0.83      0.82        96\n",
            "           3       0.93      0.91      0.92       105\n",
            "\n",
            "    accuracy                           0.88       400\n",
            "   macro avg       0.88      0.88      0.88       400\n",
            "weighted avg       0.88      0.88      0.88       400\n",
            "\n"
          ]
        }
      ]
    },
    {
      "cell_type": "code",
      "source": [
        "matrix=confusion_matrix(y_test,y_pred_rfc)\n",
        "plt.figure(figsize = (10,7))\n",
        "sns.heatmap(matrix,annot=True)"
      ],
      "metadata": {
        "colab": {
          "base_uri": "https://localhost:8080/",
          "height": 446
        },
        "id": "jau6VGjUaU39",
        "outputId": "00b47379-2868-4913-9a9b-0c4fc5cd75bc"
      },
      "execution_count": null,
      "outputs": [
        {
          "output_type": "execute_result",
          "data": {
            "text/plain": [
              "<matplotlib.axes._subplots.AxesSubplot at 0x7f0f47f8b990>"
            ]
          },
          "metadata": {},
          "execution_count": 208
        },
        {
          "output_type": "display_data",
          "data": {
            "text/plain": [
              "<Figure size 720x504 with 2 Axes>"
            ],
            "image/png": "[encoded data removed]"
          },
          "metadata": {}
        }
      ]
    },
    {
      "cell_type": "markdown",
      "source": [
        "#LinearRegression"
      ],
      "metadata": {
        "id": "acPKRT1LwXb-"
      }
    },
    {
      "cell_type": "code",
      "source": [
        "from sklearn.linear_model import LinearRegression\n",
        "lr = LinearRegression(copy_X=True, fit_intercept=True, n_jobs=1, normalize=False)"
      ],
      "metadata": {
        "id": "a3Ayy6QgtZkh"
      },
      "execution_count": null,
      "outputs": []
    },
    {
      "cell_type": "code",
      "source": [
        "lr.fit(x_train,y_train)"
      ],
      "metadata": {
        "colab": {
          "base_uri": "https://localhost:8080/"
        },
        "id": "N0Y2wRBAwHVH",
        "outputId": "12ad57b3-8561-413a-bd6a-46746f0dc349"
      },
      "execution_count": null,
      "outputs": [
        {
          "output_type": "stream",
          "name": "stderr",
          "text": [
            "/usr/local/lib/python3.7/dist-packages/sklearn/linear_model/_base.py:155: FutureWarning:\n",
            "\n",
            "'normalize' was deprecated in version 1.0 and will be removed in 1.2. Please leave the normalize parameter to its default value to silence this warning. The default behavior of this estimator is to not do any normalization. If normalization is needed please use sklearn.preprocessing.StandardScaler instead.\n",
            "\n"
          ]
        },
        {
          "output_type": "execute_result",
          "data": {
            "text/plain": [
              "LinearRegression(n_jobs=1, normalize=False)"
            ]
          },
          "metadata": {},
          "execution_count": 123
        }
      ]
    },
    {
      "cell_type": "code",
      "source": [
        "lr.score(x_test,y_test)"
      ],
      "metadata": {
        "colab": {
          "base_uri": "https://localhost:8080/"
        },
        "id": "5Qv3ej6twI1t",
        "outputId": "fcb439d3-6c40-44ad-dab7-e300d281963a"
      },
      "execution_count": null,
      "outputs": [
        {
          "output_type": "execute_result",
          "data": {
            "text/plain": [
              "0.9205767716665817"
            ]
          },
          "metadata": {},
          "execution_count": 124
        }
      ]
    },
    {
      "cell_type": "code",
      "source": [
        "y_test_lr = lr.predict(x_test)"
      ],
      "metadata": {
        "id": "y7qpREeSzYyY"
      },
      "execution_count": null,
      "outputs": []
    },
    {
      "cell_type": "code",
      "source": [
        "y_test_lr"
      ],
      "metadata": {
        "colab": {
          "base_uri": "https://localhost:8080/"
        },
        "id": "hHHBJuUe0sq2",
        "outputId": "750470af-0fb3-4226-a9a7-560b54c5b303"
      },
      "execution_count": null,
      "outputs": [
        {
          "output_type": "execute_result",
          "data": {
            "text/plain": [
              "array([ 1.41116129,  2.56650809,  3.12183264,  2.67631359, -0.30965973,\n",
              "        2.10546642,  1.4927431 ,  1.40417134,  2.97733993,  0.53789133,\n",
              "        1.77829175,  1.18495935,  0.63512249,  3.47835578,  1.42420186,\n",
              "        1.06525158,  3.695162  , -0.31592564, -0.36547023,  1.45735733,\n",
              "        2.35981289,  0.02451089,  0.89586534,  2.31180587,  2.08638255,\n",
              "        0.28927617,  0.37091723,  1.34771625,  1.10021607,  0.23096162,\n",
              "        0.31700278,  2.416883  ,  1.9146038 , -0.33127379,  1.30795725,\n",
              "        2.10102299,  2.65037768,  2.23251947,  3.40059355,  2.97669259,\n",
              "        0.15252653,  2.33858934,  1.14249852, -0.69746512,  0.14062292,\n",
              "        0.01965979,  0.49673056, -0.18045038,  1.77192517, -0.32348465,\n",
              "       -0.01170424,  0.75303609,  1.4466709 , -0.04785659, -0.2294989 ,\n",
              "        3.13273185, -0.33604668,  0.49442193,  2.97028057,  1.71481804,\n",
              "       -0.51515876,  2.41871717,  2.33832007,  3.00692634,  1.88293714,\n",
              "        2.93790004,  1.98795992,  2.68274303,  3.14194495,  0.24993224,\n",
              "        2.77513098, -0.4872837 ,  2.96400771,  1.15380592,  1.31118756,\n",
              "        0.52442897,  2.81760131,  1.03135147,  3.26586227,  1.75382593,\n",
              "        2.44191084,  1.0952364 ,  1.31020284,  0.62707227,  1.47311665,\n",
              "        2.47461177,  2.38731266,  0.21744807,  3.56216908,  0.86799607,\n",
              "        1.51285638, -0.14343036,  1.0520084 ,  0.29520948,  2.47940424,\n",
              "        2.58821078,  0.6937128 ,  2.41595509,  0.05013205,  1.22927663,\n",
              "        0.50140763, -0.53341426,  1.33719696,  0.04573967,  2.08944052,\n",
              "        1.73155285,  1.27541522,  0.2189949 ,  2.91004144,  0.49746422,\n",
              "        2.04840364,  1.76997835,  1.49947238,  1.77345201,  3.21449639,\n",
              "        0.89423065,  0.93389711,  2.88102003,  2.95880427,  1.68314707,\n",
              "        0.82516506,  1.45818933,  2.40427693,  1.89942313, -0.59055101,\n",
              "        0.86115338,  1.1515461 , -0.18070196,  2.9195858 ,  0.24365681,\n",
              "        2.38833035,  2.91594876, -0.02828625,  3.19045123,  1.15998239,\n",
              "        1.89882258,  2.51685289,  0.72924951,  0.37367284,  2.16199723,\n",
              "        2.19547071,  1.16376584, -0.11375318,  1.28172129,  0.96726181,\n",
              "        2.95395394,  1.25631595,  2.85760312, -0.60986069, -0.04536757,\n",
              "        1.27112116,  1.44915426,  0.77374999,  1.36702408,  2.29379972,\n",
              "        2.83937623,  0.86724647,  3.52788151,  2.37269434,  1.2137123 ,\n",
              "        1.38515971,  2.85697773,  1.95582415,  1.39120771, -0.32295958,\n",
              "       -0.06435095,  0.28064584,  1.7250492 ,  2.43749135,  1.84976268,\n",
              "        0.99786202,  2.59838685,  2.37748398,  1.67744924,  0.7469976 ,\n",
              "        1.53915773,  1.42080045,  0.72184226,  0.84794791,  0.18315265,\n",
              "        2.48974382,  0.5522731 ,  2.7711345 ,  0.45672246,  1.59151615,\n",
              "        0.19683641,  1.01770241,  3.37958993,  0.38412304,  0.74704256,\n",
              "        0.319504  ,  0.4334849 ,  0.08369152,  1.78195989,  1.9527096 ,\n",
              "        2.3284277 ,  2.10760529,  1.87290947,  1.94604677,  1.01353304,\n",
              "        2.90643444,  1.25840648,  1.64142939,  1.72269041,  1.76609385,\n",
              "        0.68010236,  1.31030376,  3.29672522,  1.39812113,  0.58629998,\n",
              "        2.53904451,  1.75345922,  0.94495768,  0.45550614,  1.39570767,\n",
              "        2.76903823,  0.30495501,  2.49228795,  2.9649699 ,  1.36926061,\n",
              "        3.07242101, -0.09619767,  3.18979593,  1.36996871,  0.54122111,\n",
              "        1.17313762,  1.22854443,  3.39330124,  3.58882436,  2.09220451,\n",
              "        1.89534667,  0.2961052 , -0.24586809,  0.06659396,  2.29775354,\n",
              "        2.55122912,  2.54904028,  0.83916347,  3.38853162,  2.62656097,\n",
              "        2.52721695,  1.58911524,  2.92000768,  1.00514301,  0.93309788,\n",
              "        0.46255827,  1.40318749,  3.29304941,  1.8833231 ,  3.11839381,\n",
              "        1.98746122,  1.76441389,  0.81311109,  2.07376525,  1.40716458,\n",
              "        2.70071064,  0.23302516,  1.99602103,  1.14579829,  2.07177811,\n",
              "        3.11237153,  0.73162181,  1.90922499,  2.6962308 ,  0.36178461,\n",
              "       -0.3613737 ,  2.24885161,  1.22889259,  2.14118888,  2.65887778,\n",
              "        2.70569534,  2.30421175,  0.42509621,  1.44029969,  0.92073025,\n",
              "       -0.0365357 ,  1.19015714,  1.55294392,  3.38071855,  1.67302042,\n",
              "        1.19349063,  1.52085529, -0.09681363,  1.22132055,  2.86600142,\n",
              "        2.63652233,  0.94382328,  2.74183522,  0.29150194,  1.14288028,\n",
              "        1.8585807 ,  1.56732627,  3.19325846,  2.94256218,  1.74452232,\n",
              "        2.37518904, -0.23628832,  2.83105352,  2.56564557, -0.1957751 ,\n",
              "        1.91398676,  0.06039112,  0.56973603,  2.29799804,  1.19020282,\n",
              "        0.39385107,  0.267863  ,  0.19451852,  0.61969909,  2.23328552,\n",
              "        1.91838299,  1.63254534,  2.55071841,  2.49524764,  3.34601186,\n",
              "        0.93164015,  3.17757241,  0.92588946,  1.89783301,  1.18824254,\n",
              "        2.19128751,  2.20940372,  2.23634298,  1.65849139,  0.15115427,\n",
              "        2.90955605,  3.46214659,  0.16012871,  1.96637016,  2.00030352,\n",
              "        1.88726229,  3.4682066 , -0.13522017,  2.8082448 ,  0.25570528,\n",
              "        3.02067765,  2.89235085,  0.52927752,  2.28404145,  2.12675932,\n",
              "        1.49711606,  3.00830325,  2.49152113,  1.04552256,  1.315766  ,\n",
              "        2.68677974,  1.86944384,  0.77268011,  2.94826719,  0.20739633,\n",
              "       -0.32338584,  1.37791754,  3.03300961,  1.02700723,  2.31596881,\n",
              "        0.5764085 ,  0.65528411,  1.74015054,  4.05890173,  0.25036515,\n",
              "        1.07135657, -0.15523119,  0.96541969,  2.35989208,  0.35424584,\n",
              "       -0.30756592,  1.16268962,  0.50247422,  1.23359932,  1.84901824,\n",
              "        1.31721977, -0.1829454 ,  2.98392369,  1.18077923,  1.74484199,\n",
              "        1.29490549,  1.81786219,  3.28294646,  2.90946359,  3.43303935,\n",
              "        0.28620243,  0.66305185,  0.09508485,  2.65184797,  1.50230615,\n",
              "        0.37011875,  1.43231988,  3.39484419, -0.29265942,  0.14804778,\n",
              "        2.00373377,  2.94051041,  1.55378962, -0.04488064,  1.06954929,\n",
              "        2.98276507,  1.49951267,  1.7299639 ,  1.87958125,  0.72480754])"
            ]
          },
          "metadata": {},
          "execution_count": 126
        }
      ]
    },
    {
      "cell_type": "code",
      "source": [
        "y_test\n",
        "y_test_rounded = np.round_(y_test_lr) \n",
        "y_test_rounded"
      ],
      "metadata": {
        "colab": {
          "base_uri": "https://localhost:8080/"
        },
        "id": "7A1n_MdzziUs",
        "outputId": "15e7ccd8-c068-4ba9-8754-19094f3d3641"
      },
      "execution_count": null,
      "outputs": [
        {
          "output_type": "execute_result",
          "data": {
            "text/plain": [
              "array([ 1.,  3.,  3.,  3., -0.,  2.,  1.,  1.,  3.,  1.,  2.,  1.,  1.,\n",
              "        3.,  1.,  1.,  4., -0., -0.,  1.,  2.,  0.,  1.,  2.,  2.,  0.,\n",
              "        0.,  1.,  1.,  0.,  0.,  2.,  2., -0.,  1.,  2.,  3.,  2.,  3.,\n",
              "        3.,  0.,  2.,  1., -1.,  0.,  0.,  0., -0.,  2., -0., -0.,  1.,\n",
              "        1., -0., -0.,  3., -0.,  0.,  3.,  2., -1.,  2.,  2.,  3.,  2.,\n",
              "        3.,  2.,  3.,  3.,  0.,  3., -0.,  3.,  1.,  1.,  1.,  3.,  1.,\n",
              "        3.,  2.,  2.,  1.,  1.,  1.,  1.,  2.,  2.,  0.,  4.,  1.,  2.,\n",
              "       -0.,  1.,  0.,  2.,  3.,  1.,  2.,  0.,  1.,  1., -1.,  1.,  0.,\n",
              "        2.,  2.,  1.,  0.,  3.,  0.,  2.,  2.,  1.,  2.,  3.,  1.,  1.,\n",
              "        3.,  3.,  2.,  1.,  1.,  2.,  2., -1.,  1.,  1., -0.,  3.,  0.,\n",
              "        2.,  3., -0.,  3.,  1.,  2.,  3.,  1.,  0.,  2.,  2.,  1., -0.,\n",
              "        1.,  1.,  3.,  1.,  3., -1., -0.,  1.,  1.,  1.,  1.,  2.,  3.,\n",
              "        1.,  4.,  2.,  1.,  1.,  3.,  2.,  1., -0., -0.,  0.,  2.,  2.,\n",
              "        2.,  1.,  3.,  2.,  2.,  1.,  2.,  1.,  1.,  1.,  0.,  2.,  1.,\n",
              "        3.,  0.,  2.,  0.,  1.,  3.,  0.,  1.,  0.,  0.,  0.,  2.,  2.,\n",
              "        2.,  2.,  2.,  2.,  1.,  3.,  1.,  2.,  2.,  2.,  1.,  1.,  3.,\n",
              "        1.,  1.,  3.,  2.,  1.,  0.,  1.,  3.,  0.,  2.,  3.,  1.,  3.,\n",
              "       -0.,  3.,  1.,  1.,  1.,  1.,  3.,  4.,  2.,  2.,  0., -0.,  0.,\n",
              "        2.,  3.,  3.,  1.,  3.,  3.,  3.,  2.,  3.,  1.,  1.,  0.,  1.,\n",
              "        3.,  2.,  3.,  2.,  2.,  1.,  2.,  1.,  3.,  0.,  2.,  1.,  2.,\n",
              "        3.,  1.,  2.,  3.,  0., -0.,  2.,  1.,  2.,  3.,  3.,  2.,  0.,\n",
              "        1.,  1., -0.,  1.,  2.,  3.,  2.,  1.,  2., -0.,  1.,  3.,  3.,\n",
              "        1.,  3.,  0.,  1.,  2.,  2.,  3.,  3.,  2.,  2., -0.,  3.,  3.,\n",
              "       -0.,  2.,  0.,  1.,  2.,  1.,  0.,  0.,  0.,  1.,  2.,  2.,  2.,\n",
              "        3.,  2.,  3.,  1.,  3.,  1.,  2.,  1.,  2.,  2.,  2.,  2.,  0.,\n",
              "        3.,  3.,  0.,  2.,  2.,  2.,  3., -0.,  3.,  0.,  3.,  3.,  1.,\n",
              "        2.,  2.,  1.,  3.,  2.,  1.,  1.,  3.,  2.,  1.,  3.,  0., -0.,\n",
              "        1.,  3.,  1.,  2.,  1.,  1.,  2.,  4.,  0.,  1., -0.,  1.,  2.,\n",
              "        0., -0.,  1.,  1.,  1.,  2.,  1., -0.,  3.,  1.,  2.,  1.,  2.,\n",
              "        3.,  3.,  3.,  0.,  1.,  0.,  3.,  2.,  0.,  1.,  3., -0.,  0.,\n",
              "        2.,  3.,  2., -0.,  1.,  3.,  1.,  2.,  2.,  1.])"
            ]
          },
          "metadata": {},
          "execution_count": 127
        }
      ]
    },
    {
      "cell_type": "code",
      "source": [
        "from yellowbrick.target import ClassBalance\n",
        "visualizer1 = ClassBalance(labels=[-1,-0,0, 1, 2,3])\n",
        "visualizer1.fit(y_test_rounded)\n",
        "visualizer1.poof()"
      ],
      "metadata": {
        "colab": {
          "base_uri": "https://localhost:8080/",
          "height": 72
        },
        "id": "aJdancbAzNEv",
        "outputId": "9cab4e6a-5e2e-4f10-8515-973d24f335e1"
      },
      "execution_count": null,
      "outputs": [
        {
          "output_type": "display_data",
          "data": {
            "text/plain": [
              "<Figure size 576x396 with 1 Axes>"
            ],
            "image/png": "[encoded data removed]"
          },
          "metadata": {}
        },
        {
          "output_type": "execute_result",
          "data": {
            "text/plain": [
              "<matplotlib.axes._subplots.AxesSubplot at 0x7f0f4a53dfd0>"
            ]
          },
          "metadata": {},
          "execution_count": 128
        }
      ]
    },
    {
      "cell_type": "markdown",
      "source": [
        "#Confusion Matrix Test"
      ],
      "metadata": {
        "id": "F_XrjbQy6ofA"
      }
    },
    {
      "cell_type": "code",
      "source": [
        "from sklearn.metrics import classification_report,confusion_matrix"
      ],
      "metadata": {
        "id": "csYpKfmh6qkW"
      },
      "execution_count": null,
      "outputs": []
    },
    {
      "cell_type": "code",
      "source": [
        "Y_true = [0, 1, 2, 2, 2] \n",
        "Y_pred = [0, 0, 2, 2, 1]\n",
        "print(classification_report(Y_true,Y_pred))"
      ],
      "metadata": {
        "colab": {
          "base_uri": "https://localhost:8080/"
        },
        "id": "8Kwc9jBEWprl",
        "outputId": "19b285f9-732b-4c10-c025-ee169ea4cc49"
      },
      "execution_count": null,
      "outputs": [
        {
          "output_type": "stream",
          "name": "stdout",
          "text": [
            "              precision    recall  f1-score   support\n",
            "\n",
            "           0       0.50      1.00      0.67         1\n",
            "           1       0.00      0.00      0.00         1\n",
            "           2       1.00      0.67      0.80         3\n",
            "\n",
            "    accuracy                           0.60         5\n",
            "   macro avg       0.50      0.56      0.49         5\n",
            "weighted avg       0.70      0.60      0.61         5\n",
            "\n"
          ]
        }
      ]
    },
    {
      "cell_type": "code",
      "source": [
        "matrix=confusion_matrix(Y_true,Y_pred)\n",
        "matrix"
      ],
      "metadata": {
        "colab": {
          "base_uri": "https://localhost:8080/"
        },
        "id": "B5vRdwdlf-M8",
        "outputId": "5e4f0bbd-83fa-4286-bf6b-e6cebcf0c73a"
      },
      "execution_count": null,
      "outputs": [
        {
          "output_type": "execute_result",
          "data": {
            "text/plain": [
              "array([[1, 0, 0],\n",
              "       [1, 0, 0],\n",
              "       [0, 1, 2]])"
            ]
          },
          "metadata": {},
          "execution_count": 155
        }
      ]
    },
    {
      "cell_type": "code",
      "source": [
        "plt.figure(figsize = (10,7))\n",
        "sns.heatmap(matrix,annot=True)\n",
        "# y 軸 是 ture value \n",
        "# x 軸 是 predicted value"
      ],
      "metadata": {
        "colab": {
          "base_uri": "https://localhost:8080/",
          "height": 450
        },
        "id": "sAODMwdi-3m0",
        "outputId": "5329e4a3-03d2-4d68-93d0-52b09781ee4d"
      },
      "execution_count": null,
      "outputs": [
        {
          "output_type": "execute_result",
          "data": {
            "text/plain": [
              "<matplotlib.axes._subplots.AxesSubplot at 0x7f0f4854d190>"
            ]
          },
          "metadata": {},
          "execution_count": 157
        },
        {
          "output_type": "display_data",
          "data": {
            "text/plain": [
              "<Figure size 720x504 with 2 Axes>"
            ],
            "image/png": "[encoded data removed]"
          },
          "metadata": {}
        }
      ]
    },
    {
      "cell_type": "markdown",
      "source": [
        "# Price prediction of Test.csv Using KNN for Prediction"
      ],
      "metadata": {
        "id": "01GbtRlyPYC8"
      }
    },
    {
      "cell_type": "code",
      "source": [
        "data_test=pd.read_csv('/content/drive/MyDrive/Colab/Mobile Price Classification_data/test.csv')"
      ],
      "metadata": {
        "id": "5oWFtFMgPYvu"
      },
      "execution_count": 41,
      "outputs": []
    },
    {
      "cell_type": "code",
      "source": [
        "data_test.head()"
      ],
      "metadata": {
        "colab": {
          "base_uri": "https://localhost:8080/",
          "height": 299
        },
        "id": "EPfoTS7lPgy1",
        "outputId": "a4176f64-2332-4508-866c-e8296913c802"
      },
      "execution_count": 42,
      "outputs": [
        {
          "output_type": "execute_result",
          "data": {
            "text/plain": [
              "   id  battery_power  blue  clock_speed  dual_sim  fc  four_g  int_memory  \\\n",
              "0   1           1043     1          1.8         1  14       0           5   \n",
              "1   2            841     1          0.5         1   4       1          61   \n",
              "2   3           1807     1          2.8         0   1       0          27   \n",
              "3   4           1546     0          0.5         1  18       1          25   \n",
              "4   5           1434     0          1.4         0  11       1          49   \n",
              "\n",
              "   m_dep  mobile_wt  ...  pc  px_height  px_width   ram  sc_h  sc_w  \\\n",
              "0    0.1        193  ...  16        226      1412  3476    12     7   \n",
              "1    0.8        191  ...  12        746       857  3895     6     0   \n",
              "2    0.9        186  ...   4       1270      1366  2396    17    10   \n",
              "3    0.5         96  ...  20        295      1752  3893    10     0   \n",
              "4    0.5        108  ...  18        749       810  1773    15     8   \n",
              "\n",
              "   talk_time  three_g  touch_screen  wifi  \n",
              "0          2        0             1     0  \n",
              "1          7        1             0     0  \n",
              "2         10        0             1     1  \n",
              "3          7        1             1     0  \n",
              "4          7        1             0     1  \n",
              "\n",
              "[5 rows x 21 columns]"
            ],
            "text/html": [
              "\n",
              "  <div id=\"df-f4031463-974e-40bf-bda8-92b25f84cb44\">\n",
              "    <div class=\"colab-df-container\">\n",
              "      <div>\n",
              "<style scoped>\n",
              "    .dataframe tbody tr th:only-of-type {\n",
              "        vertical-align: middle;\n",
              "    }\n",
              "\n",
              "    .dataframe tbody tr th {\n",
              "        vertical-align: top;\n",
              "    }\n",
              "\n",
              "    .dataframe thead th {\n",
              "        text-align: right;\n",
              "    }\n",
              "</style>\n",
              "<table border=\"1\" class=\"dataframe\">\n",
              "  <thead>\n",
              "    <tr style=\"text-align: right;\">\n",
              "      <th></th>\n",
              "      <th>id</th>\n",
              "      <th>battery_power</th>\n",
              "      <th>blue</th>\n",
              "      <th>clock_speed</th>\n",
              "      <th>dual_sim</th>\n",
              "      <th>fc</th>\n",
              "      <th>four_g</th>\n",
              "      <th>int_memory</th>\n",
              "      <th>m_dep</th>\n",
              "      <th>mobile_wt</th>\n",
              "      <th>...</th>\n",
              "      <th>pc</th>\n",
              "      <th>px_height</th>\n",
              "      <th>px_width</th>\n",
              "      <th>ram</th>\n",
              "      <th>sc_h</th>\n",
              "      <th>sc_w</th>\n",
              "      <th>talk_time</th>\n",
              "      <th>three_g</th>\n",
              "      <th>touch_screen</th>\n",
              "      <th>wifi</th>\n",
              "    </tr>\n",
              "  </thead>\n",
              "  <tbody>\n",
              "    <tr>\n",
              "      <th>0</th>\n",
              "      <td>1</td>\n",
              "      <td>1043</td>\n",
              "      <td>1</td>\n",
              "      <td>1.8</td>\n",
              "      <td>1</td>\n",
              "      <td>14</td>\n",
              "      <td>0</td>\n",
              "      <td>5</td>\n",
              "      <td>0.1</td>\n",
              "      <td>193</td>\n",
              "      <td>...</td>\n",
              "      <td>16</td>\n",
              "      <td>226</td>\n",
              "      <td>1412</td>\n",
              "      <td>3476</td>\n",
              "      <td>12</td>\n",
              "      <td>7</td>\n",
              "      <td>2</td>\n",
              "      <td>0</td>\n",
              "      <td>1</td>\n",
              "      <td>0</td>\n",
              "    </tr>\n",
              "    <tr>\n",
              "      <th>1</th>\n",
              "      <td>2</td>\n",
              "      <td>841</td>\n",
              "      <td>1</td>\n",
              "      <td>0.5</td>\n",
              "      <td>1</td>\n",
              "      <td>4</td>\n",
              "      <td>1</td>\n",
              "      <td>61</td>\n",
              "      <td>0.8</td>\n",
              "      <td>191</td>\n",
              "      <td>...</td>\n",
              "      <td>12</td>\n",
              "      <td>746</td>\n",
              "      <td>857</td>\n",
              "      <td>3895</td>\n",
              "      <td>6</td>\n",
              "      <td>0</td>\n",
              "      <td>7</td>\n",
              "      <td>1</td>\n",
              "      <td>0</td>\n",
              "      <td>0</td>\n",
              "    </tr>\n",
              "    <tr>\n",
              "      <th>2</th>\n",
              "      <td>3</td>\n",
              "      <td>1807</td>\n",
              "      <td>1</td>\n",
              "      <td>2.8</td>\n",
              "      <td>0</td>\n",
              "      <td>1</td>\n",
              "      <td>0</td>\n",
              "      <td>27</td>\n",
              "      <td>0.9</td>\n",
              "      <td>186</td>\n",
              "      <td>...</td>\n",
              "      <td>4</td>\n",
              "      <td>1270</td>\n",
              "      <td>1366</td>\n",
              "      <td>2396</td>\n",
              "      <td>17</td>\n",
              "      <td>10</td>\n",
              "      <td>10</td>\n",
              "      <td>0</td>\n",
              "      <td>1</td>\n",
              "      <td>1</td>\n",
              "    </tr>\n",
              "    <tr>\n",
              "      <th>3</th>\n",
              "      <td>4</td>\n",
              "      <td>1546</td>\n",
              "      <td>0</td>\n",
              "      <td>0.5</td>\n",
              "      <td>1</td>\n",
              "      <td>18</td>\n",
              "      <td>1</td>\n",
              "      <td>25</td>\n",
              "      <td>0.5</td>\n",
              "      <td>96</td>\n",
              "      <td>...</td>\n",
              "      <td>20</td>\n",
              "      <td>295</td>\n",
              "      <td>1752</td>\n",
              "      <td>3893</td>\n",
              "      <td>10</td>\n",
              "      <td>0</td>\n",
              "      <td>7</td>\n",
              "      <td>1</td>\n",
              "      <td>1</td>\n",
              "      <td>0</td>\n",
              "    </tr>\n",
              "    <tr>\n",
              "      <th>4</th>\n",
              "      <td>5</td>\n",
              "      <td>1434</td>\n",
              "      <td>0</td>\n",
              "      <td>1.4</td>\n",
              "      <td>0</td>\n",
              "      <td>11</td>\n",
              "      <td>1</td>\n",
              "      <td>49</td>\n",
              "      <td>0.5</td>\n",
              "      <td>108</td>\n",
              "      <td>...</td>\n",
              "      <td>18</td>\n",
              "      <td>749</td>\n",
              "      <td>810</td>\n",
              "      <td>1773</td>\n",
              "      <td>15</td>\n",
              "      <td>8</td>\n",
              "      <td>7</td>\n",
              "      <td>1</td>\n",
              "      <td>0</td>\n",
              "      <td>1</td>\n",
              "    </tr>\n",
              "  </tbody>\n",
              "</table>\n",
              "<p>5 rows × 21 columns</p>\n",
              "</div>\n",
              "      <button class=\"colab-df-convert\" onclick=\"convertToInteractive('df-f4031463-974e-40bf-bda8-92b25f84cb44')\"\n",
              "              title=\"Convert this dataframe to an interactive table.\"\n",
              "              style=\"display:none;\">\n",
              "        \n",
              "  <svg xmlns=\"http://www.w3.org/2000/svg\" height=\"24px\"viewBox=\"0 0 24 24\"\n",
              "       width=\"24px\">\n",
              "    <path d=\"M0 0h24v24H0V0z\" fill=\"none\"/>\n",
              "    <path d=\"M18.56 5.44l.94 2.06.94-2.06 2.06-.94-2.06-.94-.94-2.06-.94 2.06-2.06.94zm-11 1L8.5 8.5l.94-2.06 2.06-.94-2.06-.94L8.5 2.5l-.94 2.06-2.06.94zm10 10l.94 2.06.94-2.06 2.06-.94-2.06-.94-.94-2.06-.94 2.06-2.06.94z\"/><path d=\"M17.41 7.96l-1.37-1.37c-.4-.4-.92-.59-1.43-.59-.52 0-1.04.2-1.43.59L10.3 9.45l-7.72 7.72c-.78.78-.78 2.05 0 2.83L4 21.41c.39.39.9.59 1.41.59.51 0 1.02-.2 1.41-.59l7.78-7.78 2.81-2.81c.8-.78.8-2.07 0-2.86zM5.41 20L4 18.59l7.72-7.72 1.47 1.35L5.41 20z\"/>\n",
              "  </svg>\n",
              "      </button>\n",
              "      \n",
              "  <style>\n",
              "    .colab-df-container {\n",
              "      display:flex;\n",
              "      flex-wrap:wrap;\n",
              "      gap: 12px;\n",
              "    }\n",
              "\n",
              "    .colab-df-convert {\n",
              "      background-color: #E8F0FE;\n",
              "      border: none;\n",
              "      border-radius: 50%;\n",
              "      cursor: pointer;\n",
              "      display: none;\n",
              "      fill: #1967D2;\n",
              "      height: 32px;\n",
              "      padding: 0 0 0 0;\n",
              "      width: 32px;\n",
              "    }\n",
              "\n",
              "    .colab-df-convert:hover {\n",
              "      background-color: #E2EBFA;\n",
              "      box-shadow: 0px 1px 2px rgba(60, 64, 67, 0.3), 0px 1px 3px 1px rgba(60, 64, 67, 0.15);\n",
              "      fill: #174EA6;\n",
              "    }\n",
              "\n",
              "    [theme=dark] .colab-df-convert {\n",
              "      background-color: #3B4455;\n",
              "      fill: #D2E3FC;\n",
              "    }\n",
              "\n",
              "    [theme=dark] .colab-df-convert:hover {\n",
              "      background-color: #434B5C;\n",
              "      box-shadow: 0px 1px 3px 1px rgba(0, 0, 0, 0.15);\n",
              "      filter: drop-shadow(0px 1px 2px rgba(0, 0, 0, 0.3));\n",
              "      fill: #FFFFFF;\n",
              "    }\n",
              "  </style>\n",
              "\n",
              "      <script>\n",
              "        const buttonEl =\n",
              "          document.querySelector('#df-f4031463-974e-40bf-bda8-92b25f84cb44 button.colab-df-convert');\n",
              "        buttonEl.style.display =\n",
              "          google.colab.kernel.accessAllowed ? 'block' : 'none';\n",
              "\n",
              "        async function convertToInteractive(key) {\n",
              "          const element = document.querySelector('#df-f4031463-974e-40bf-bda8-92b25f84cb44');\n",
              "          const dataTable =\n",
              "            await google.colab.kernel.invokeFunction('convertToInteractive',\n",
              "                                                     [key], {});\n",
              "          if (!dataTable) return;\n",
              "\n",
              "          const docLinkHtml = 'Like what you see? Visit the ' +\n",
              "            '<a target=\"_blank\" href=https://colab.research.google.com/notebooks/data_table.ipynb>data table notebook</a>'\n",
              "            + ' to learn more about interactive tables.';\n",
              "          element.innerHTML = '';\n",
              "          dataTable['output_type'] = 'display_data';\n",
              "          await google.colab.output.renderOutput(dataTable, element);\n",
              "          const docLink = document.createElement('div');\n",
              "          docLink.innerHTML = docLinkHtml;\n",
              "          element.appendChild(docLink);\n",
              "        }\n",
              "      </script>\n",
              "    </div>\n",
              "  </div>\n",
              "  "
            ]
          },
          "metadata": {},
          "execution_count": 42
        }
      ]
    },
    {
      "cell_type": "code",
      "source": [
        "data_test=data_test.drop('id',axis=1)"
      ],
      "metadata": {
        "id": "Nu0YYLC8PlPH"
      },
      "execution_count": 43,
      "outputs": []
    },
    {
      "cell_type": "code",
      "source": [
        "data_test.head()"
      ],
      "metadata": {
        "colab": {
          "base_uri": "https://localhost:8080/",
          "height": 270
        },
        "id": "hQCiHrEePn1C",
        "outputId": "fe1760d7-4eb9-4eb5-8c66-fb040f69be24"
      },
      "execution_count": 44,
      "outputs": [
        {
          "output_type": "execute_result",
          "data": {
            "text/plain": [
              "   battery_power  blue  clock_speed  dual_sim  fc  four_g  int_memory  m_dep  \\\n",
              "0           1043     1          1.8         1  14       0           5    0.1   \n",
              "1            841     1          0.5         1   4       1          61    0.8   \n",
              "2           1807     1          2.8         0   1       0          27    0.9   \n",
              "3           1546     0          0.5         1  18       1          25    0.5   \n",
              "4           1434     0          1.4         0  11       1          49    0.5   \n",
              "\n",
              "   mobile_wt  n_cores  pc  px_height  px_width   ram  sc_h  sc_w  talk_time  \\\n",
              "0        193        3  16        226      1412  3476    12     7          2   \n",
              "1        191        5  12        746       857  3895     6     0          7   \n",
              "2        186        3   4       1270      1366  2396    17    10         10   \n",
              "3         96        8  20        295      1752  3893    10     0          7   \n",
              "4        108        6  18        749       810  1773    15     8          7   \n",
              "\n",
              "   three_g  touch_screen  wifi  \n",
              "0        0             1     0  \n",
              "1        1             0     0  \n",
              "2        0             1     1  \n",
              "3        1             1     0  \n",
              "4        1             0     1  "
            ],
            "text/html": [
              "\n",
              "  <div id=\"df-cf9451e9-92da-4509-9f0f-096118a2acde\">\n",
              "    <div class=\"colab-df-container\">\n",
              "      <div>\n",
              "<style scoped>\n",
              "    .dataframe tbody tr th:only-of-type {\n",
              "        vertical-align: middle;\n",
              "    }\n",
              "\n",
              "    .dataframe tbody tr th {\n",
              "        vertical-align: top;\n",
              "    }\n",
              "\n",
              "    .dataframe thead th {\n",
              "        text-align: right;\n",
              "    }\n",
              "</style>\n",
              "<table border=\"1\" class=\"dataframe\">\n",
              "  <thead>\n",
              "    <tr style=\"text-align: right;\">\n",
              "      <th></th>\n",
              "      <th>battery_power</th>\n",
              "      <th>blue</th>\n",
              "      <th>clock_speed</th>\n",
              "      <th>dual_sim</th>\n",
              "      <th>fc</th>\n",
              "      <th>four_g</th>\n",
              "      <th>int_memory</th>\n",
              "      <th>m_dep</th>\n",
              "      <th>mobile_wt</th>\n",
              "      <th>n_cores</th>\n",
              "      <th>pc</th>\n",
              "      <th>px_height</th>\n",
              "      <th>px_width</th>\n",
              "      <th>ram</th>\n",
              "      <th>sc_h</th>\n",
              "      <th>sc_w</th>\n",
              "      <th>talk_time</th>\n",
              "      <th>three_g</th>\n",
              "      <th>touch_screen</th>\n",
              "      <th>wifi</th>\n",
              "    </tr>\n",
              "  </thead>\n",
              "  <tbody>\n",
              "    <tr>\n",
              "      <th>0</th>\n",
              "      <td>1043</td>\n",
              "      <td>1</td>\n",
              "      <td>1.8</td>\n",
              "      <td>1</td>\n",
              "      <td>14</td>\n",
              "      <td>0</td>\n",
              "      <td>5</td>\n",
              "      <td>0.1</td>\n",
              "      <td>193</td>\n",
              "      <td>3</td>\n",
              "      <td>16</td>\n",
              "      <td>226</td>\n",
              "      <td>1412</td>\n",
              "      <td>3476</td>\n",
              "      <td>12</td>\n",
              "      <td>7</td>\n",
              "      <td>2</td>\n",
              "      <td>0</td>\n",
              "      <td>1</td>\n",
              "      <td>0</td>\n",
              "    </tr>\n",
              "    <tr>\n",
              "      <th>1</th>\n",
              "      <td>841</td>\n",
              "      <td>1</td>\n",
              "      <td>0.5</td>\n",
              "      <td>1</td>\n",
              "      <td>4</td>\n",
              "      <td>1</td>\n",
              "      <td>61</td>\n",
              "      <td>0.8</td>\n",
              "      <td>191</td>\n",
              "      <td>5</td>\n",
              "      <td>12</td>\n",
              "      <td>746</td>\n",
              "      <td>857</td>\n",
              "      <td>3895</td>\n",
              "      <td>6</td>\n",
              "      <td>0</td>\n",
              "      <td>7</td>\n",
              "      <td>1</td>\n",
              "      <td>0</td>\n",
              "      <td>0</td>\n",
              "    </tr>\n",
              "    <tr>\n",
              "      <th>2</th>\n",
              "      <td>1807</td>\n",
              "      <td>1</td>\n",
              "      <td>2.8</td>\n",
              "      <td>0</td>\n",
              "      <td>1</td>\n",
              "      <td>0</td>\n",
              "      <td>27</td>\n",
              "      <td>0.9</td>\n",
              "      <td>186</td>\n",
              "      <td>3</td>\n",
              "      <td>4</td>\n",
              "      <td>1270</td>\n",
              "      <td>1366</td>\n",
              "      <td>2396</td>\n",
              "      <td>17</td>\n",
              "      <td>10</td>\n",
              "      <td>10</td>\n",
              "      <td>0</td>\n",
              "      <td>1</td>\n",
              "      <td>1</td>\n",
              "    </tr>\n",
              "    <tr>\n",
              "      <th>3</th>\n",
              "      <td>1546</td>\n",
              "      <td>0</td>\n",
              "      <td>0.5</td>\n",
              "      <td>1</td>\n",
              "      <td>18</td>\n",
              "      <td>1</td>\n",
              "      <td>25</td>\n",
              "      <td>0.5</td>\n",
              "      <td>96</td>\n",
              "      <td>8</td>\n",
              "      <td>20</td>\n",
              "      <td>295</td>\n",
              "      <td>1752</td>\n",
              "      <td>3893</td>\n",
              "      <td>10</td>\n",
              "      <td>0</td>\n",
              "      <td>7</td>\n",
              "      <td>1</td>\n",
              "      <td>1</td>\n",
              "      <td>0</td>\n",
              "    </tr>\n",
              "    <tr>\n",
              "      <th>4</th>\n",
              "      <td>1434</td>\n",
              "      <td>0</td>\n",
              "      <td>1.4</td>\n",
              "      <td>0</td>\n",
              "      <td>11</td>\n",
              "      <td>1</td>\n",
              "      <td>49</td>\n",
              "      <td>0.5</td>\n",
              "      <td>108</td>\n",
              "      <td>6</td>\n",
              "      <td>18</td>\n",
              "      <td>749</td>\n",
              "      <td>810</td>\n",
              "      <td>1773</td>\n",
              "      <td>15</td>\n",
              "      <td>8</td>\n",
              "      <td>7</td>\n",
              "      <td>1</td>\n",
              "      <td>0</td>\n",
              "      <td>1</td>\n",
              "    </tr>\n",
              "  </tbody>\n",
              "</table>\n",
              "</div>\n",
              "      <button class=\"colab-df-convert\" onclick=\"convertToInteractive('df-cf9451e9-92da-4509-9f0f-096118a2acde')\"\n",
              "              title=\"Convert this dataframe to an interactive table.\"\n",
              "              style=\"display:none;\">\n",
              "        \n",
              "  <svg xmlns=\"http://www.w3.org/2000/svg\" height=\"24px\"viewBox=\"0 0 24 24\"\n",
              "       width=\"24px\">\n",
              "    <path d=\"M0 0h24v24H0V0z\" fill=\"none\"/>\n",
              "    <path d=\"M18.56 5.44l.94 2.06.94-2.06 2.06-.94-2.06-.94-.94-2.06-.94 2.06-2.06.94zm-11 1L8.5 8.5l.94-2.06 2.06-.94-2.06-.94L8.5 2.5l-.94 2.06-2.06.94zm10 10l.94 2.06.94-2.06 2.06-.94-2.06-.94-.94-2.06-.94 2.06-2.06.94z\"/><path d=\"M17.41 7.96l-1.37-1.37c-.4-.4-.92-.59-1.43-.59-.52 0-1.04.2-1.43.59L10.3 9.45l-7.72 7.72c-.78.78-.78 2.05 0 2.83L4 21.41c.39.39.9.59 1.41.59.51 0 1.02-.2 1.41-.59l7.78-7.78 2.81-2.81c.8-.78.8-2.07 0-2.86zM5.41 20L4 18.59l7.72-7.72 1.47 1.35L5.41 20z\"/>\n",
              "  </svg>\n",
              "      </button>\n",
              "      \n",
              "  <style>\n",
              "    .colab-df-container {\n",
              "      display:flex;\n",
              "      flex-wrap:wrap;\n",
              "      gap: 12px;\n",
              "    }\n",
              "\n",
              "    .colab-df-convert {\n",
              "      background-color: #E8F0FE;\n",
              "      border: none;\n",
              "      border-radius: 50%;\n",
              "      cursor: pointer;\n",
              "      display: none;\n",
              "      fill: #1967D2;\n",
              "      height: 32px;\n",
              "      padding: 0 0 0 0;\n",
              "      width: 32px;\n",
              "    }\n",
              "\n",
              "    .colab-df-convert:hover {\n",
              "      background-color: #E2EBFA;\n",
              "      box-shadow: 0px 1px 2px rgba(60, 64, 67, 0.3), 0px 1px 3px 1px rgba(60, 64, 67, 0.15);\n",
              "      fill: #174EA6;\n",
              "    }\n",
              "\n",
              "    [theme=dark] .colab-df-convert {\n",
              "      background-color: #3B4455;\n",
              "      fill: #D2E3FC;\n",
              "    }\n",
              "\n",
              "    [theme=dark] .colab-df-convert:hover {\n",
              "      background-color: #434B5C;\n",
              "      box-shadow: 0px 1px 3px 1px rgba(0, 0, 0, 0.15);\n",
              "      filter: drop-shadow(0px 1px 2px rgba(0, 0, 0, 0.3));\n",
              "      fill: #FFFFFF;\n",
              "    }\n",
              "  </style>\n",
              "\n",
              "      <script>\n",
              "        const buttonEl =\n",
              "          document.querySelector('#df-cf9451e9-92da-4509-9f0f-096118a2acde button.colab-df-convert');\n",
              "        buttonEl.style.display =\n",
              "          google.colab.kernel.accessAllowed ? 'block' : 'none';\n",
              "\n",
              "        async function convertToInteractive(key) {\n",
              "          const element = document.querySelector('#df-cf9451e9-92da-4509-9f0f-096118a2acde');\n",
              "          const dataTable =\n",
              "            await google.colab.kernel.invokeFunction('convertToInteractive',\n",
              "                                                     [key], {});\n",
              "          if (!dataTable) return;\n",
              "\n",
              "          const docLinkHtml = 'Like what you see? Visit the ' +\n",
              "            '<a target=\"_blank\" href=https://colab.research.google.com/notebooks/data_table.ipynb>data table notebook</a>'\n",
              "            + ' to learn more about interactive tables.';\n",
              "          element.innerHTML = '';\n",
              "          dataTable['output_type'] = 'display_data';\n",
              "          await google.colab.output.renderOutput(dataTable, element);\n",
              "          const docLink = document.createElement('div');\n",
              "          docLink.innerHTML = docLinkHtml;\n",
              "          element.appendChild(docLink);\n",
              "        }\n",
              "      </script>\n",
              "    </div>\n",
              "  </div>\n",
              "  "
            ]
          },
          "metadata": {},
          "execution_count": 44
        }
      ]
    },
    {
      "cell_type": "code",
      "source": [
        "predicted_price=knn.predict(data_test)"
      ],
      "metadata": {
        "id": "Nc7wtqJPPphj"
      },
      "execution_count": 45,
      "outputs": []
    },
    {
      "cell_type": "code",
      "source": [
        "predicted_price"
      ],
      "metadata": {
        "colab": {
          "base_uri": "https://localhost:8080/"
        },
        "id": "oTNk09XePrnf",
        "outputId": "ea332d5e-20fc-4ddb-cd79-825947aae8e1"
      },
      "execution_count": 46,
      "outputs": [
        {
          "output_type": "execute_result",
          "data": {
            "text/plain": [
              "array([3, 3, 2, 3, 1, 3, 3, 1, 3, 0, 3, 3, 0, 0, 2, 0, 2, 1, 3, 2, 1, 3,\n",
              "       1, 1, 3, 0, 2, 0, 3, 0, 2, 0, 3, 0, 0, 1, 3, 1, 2, 1, 1, 2, 0, 0,\n",
              "       0, 1, 0, 3, 1, 2, 1, 0, 3, 0, 3, 1, 3, 1, 1, 3, 3, 3, 0, 2, 1, 1,\n",
              "       1, 3, 1, 2, 1, 2, 2, 3, 3, 0, 2, 0, 2, 3, 0, 3, 3, 0, 3, 0, 3, 1,\n",
              "       3, 0, 1, 2, 2, 1, 2, 1, 0, 2, 1, 2, 1, 0, 0, 3, 0, 2, 0, 1, 2, 3,\n",
              "       3, 3, 1, 3, 3, 3, 3, 1, 3, 0, 0, 3, 2, 1, 2, 0, 3, 2, 3, 1, 0, 2,\n",
              "       1, 1, 3, 1, 2, 0, 3, 2, 1, 2, 1, 3, 2, 3, 3, 3, 2, 3, 2, 3, 1, 0,\n",
              "       3, 2, 3, 3, 3, 3, 2, 2, 3, 3, 3, 3, 1, 0, 3, 0, 0, 0, 2, 1, 0, 1,\n",
              "       0, 0, 1, 2, 1, 0, 0, 1, 1, 2, 2, 1, 0, 0, 0, 1, 0, 3, 1, 0, 2, 2,\n",
              "       3, 3, 1, 2, 3, 3, 3, 2, 2, 1, 1, 0, 1, 2, 0, 2, 3, 3, 0, 2, 0, 3,\n",
              "       2, 3, 3, 1, 0, 1, 0, 3, 0, 1, 0, 2, 2, 1, 2, 0, 3, 0, 3, 1, 2, 0,\n",
              "       0, 2, 1, 3, 3, 3, 1, 1, 3, 0, 0, 2, 3, 3, 1, 3, 1, 1, 3, 2, 1, 2,\n",
              "       3, 3, 3, 1, 0, 1, 2, 3, 1, 1, 3, 2, 0, 3, 0, 0, 2, 0, 0, 3, 2, 3,\n",
              "       3, 2, 1, 3, 3, 2, 3, 1, 2, 1, 2, 0, 2, 3, 1, 0, 0, 3, 0, 3, 0, 1,\n",
              "       2, 0, 2, 3, 1, 3, 2, 2, 1, 2, 0, 0, 0, 1, 3, 2, 0, 0, 0, 3, 2, 0,\n",
              "       2, 3, 1, 2, 2, 2, 3, 1, 3, 3, 2, 2, 3, 3, 3, 0, 3, 1, 3, 1, 3, 1,\n",
              "       3, 3, 0, 1, 0, 3, 1, 3, 2, 3, 0, 0, 0, 0, 2, 0, 0, 2, 2, 1, 2, 2,\n",
              "       2, 0, 1, 0, 0, 3, 2, 0, 3, 1, 2, 2, 1, 2, 3, 1, 1, 2, 2, 1, 2, 0,\n",
              "       1, 1, 0, 3, 2, 1, 0, 1, 0, 0, 1, 1, 0, 1, 0, 2, 2, 3, 2, 3, 0, 3,\n",
              "       0, 3, 0, 1, 1, 1, 1, 0, 3, 2, 3, 3, 1, 3, 1, 3, 1, 3, 2, 0, 1, 2,\n",
              "       1, 1, 0, 0, 0, 1, 2, 1, 0, 3, 2, 0, 2, 2, 0, 0, 3, 1, 1, 0, 3, 3,\n",
              "       3, 0, 3, 0, 2, 3, 3, 3, 0, 2, 0, 2, 3, 0, 1, 1, 0, 0, 1, 1, 1, 3,\n",
              "       3, 3, 2, 3, 1, 2, 2, 3, 3, 3, 2, 0, 2, 1, 2, 2, 1, 0, 2, 2, 0, 0,\n",
              "       0, 3, 1, 0, 2, 2, 2, 0, 3, 0, 2, 2, 0, 3, 0, 2, 3, 0, 1, 1, 3, 3,\n",
              "       1, 1, 1, 3, 2, 0, 3, 0, 2, 0, 3, 3, 1, 2, 2, 2, 3, 0, 1, 2, 3, 1,\n",
              "       3, 2, 3, 1, 1, 1, 0, 3, 1, 0, 3, 2, 3, 2, 0, 3, 3, 3, 2, 3, 3, 1,\n",
              "       2, 0, 2, 2, 3, 1, 0, 1, 1, 2, 2, 2, 0, 0, 2, 2, 3, 2, 0, 2, 1, 3,\n",
              "       3, 0, 1, 3, 0, 2, 1, 1, 0, 0, 2, 1, 0, 1, 1, 2, 2, 0, 2, 2, 1, 0,\n",
              "       3, 0, 0, 3, 2, 0, 0, 0, 0, 0, 3, 0, 3, 1, 3, 1, 1, 3, 3, 0, 2, 1,\n",
              "       3, 2, 3, 2, 0, 3, 0, 2, 0, 2, 0, 0, 1, 1, 1, 2, 1, 3, 1, 3, 2, 2,\n",
              "       1, 3, 2, 0, 1, 2, 0, 3, 3, 0, 2, 1, 1, 2, 0, 3, 2, 0, 3, 2, 3, 0,\n",
              "       0, 3, 0, 2, 2, 3, 2, 2, 2, 2, 1, 2, 3, 0, 1, 1, 1, 2, 1, 0, 0, 1,\n",
              "       0, 0, 3, 0, 1, 2, 0, 0, 1, 1, 3, 0, 3, 2, 3, 0, 0, 1, 2, 2, 1, 0,\n",
              "       1, 2, 0, 1, 1, 0, 0, 3, 3, 0, 3, 1, 2, 3, 0, 1, 0, 2, 2, 0, 3, 1,\n",
              "       0, 3, 0, 1, 0, 3, 3, 3, 2, 3, 0, 3, 2, 0, 0, 0, 2, 3, 2, 0, 2, 1,\n",
              "       2, 0, 0, 3, 2, 0, 3, 1, 2, 1, 1, 1, 3, 1, 1, 1, 2, 0, 0, 2, 2, 0,\n",
              "       2, 0, 0, 1, 0, 2, 3, 3, 3, 0, 1, 2, 2, 1, 0, 0, 2, 1, 0, 2, 0, 3,\n",
              "       2, 2, 1, 2, 0, 2, 1, 3, 0, 0, 3, 2, 3, 0, 0, 2, 3, 3, 1, 2, 2, 1,\n",
              "       0, 0, 2, 3, 0, 3, 0, 0, 0, 2, 2, 1, 2, 0, 3, 2, 1, 2, 3, 3, 0, 2,\n",
              "       1, 2, 1, 2, 2, 0, 1, 3, 1, 1, 3, 1, 2, 3, 2, 1, 1, 1, 3, 2, 0, 2,\n",
              "       3, 0, 2, 3, 2, 2, 2, 3, 2, 0, 1, 2, 0, 2, 1, 1, 2, 2, 2, 1, 2, 1,\n",
              "       1, 1, 3, 1, 0, 1, 2, 3, 1, 0, 0, 2, 2, 2, 3, 0, 3, 3, 2, 1, 3, 0,\n",
              "       1, 3, 1, 1, 1, 1, 3, 2, 0, 3, 0, 2, 3, 0, 3, 2, 2, 3, 1, 0, 2, 3,\n",
              "       1, 0, 2, 1, 2, 1, 2, 0, 2, 2, 0, 2, 3, 2, 3, 0, 2, 1, 1, 2, 2, 3,\n",
              "       3, 0, 2, 1, 2, 1, 3, 0, 0, 3, 0, 1, 0, 0, 3, 3, 2, 0, 0, 0, 0, 3,\n",
              "       2, 3, 3, 0, 0, 2, 1, 0, 2, 2])"
            ]
          },
          "metadata": {},
          "execution_count": 46
        }
      ]
    },
    {
      "cell_type": "markdown",
      "source": [
        "# Add the predicted price to test.csv"
      ],
      "metadata": {
        "id": "nAsNn-GFPt3z"
      }
    },
    {
      "cell_type": "code",
      "source": [
        "data_test['price_range']=predicted_price"
      ],
      "metadata": {
        "id": "ylMwvlcyPyAh"
      },
      "execution_count": 47,
      "outputs": []
    },
    {
      "cell_type": "code",
      "source": [
        "data_test.head()"
      ],
      "metadata": {
        "colab": {
          "base_uri": "https://localhost:8080/",
          "height": 299
        },
        "id": "em2WWEDCPz68",
        "outputId": "f1405d15-173c-445a-ed04-8426f5cbde64"
      },
      "execution_count": 49,
      "outputs": [
        {
          "output_type": "execute_result",
          "data": {
            "text/plain": [
              "   battery_power  blue  clock_speed  dual_sim  fc  four_g  int_memory  m_dep  \\\n",
              "0           1043     1          1.8         1  14       0           5    0.1   \n",
              "1            841     1          0.5         1   4       1          61    0.8   \n",
              "2           1807     1          2.8         0   1       0          27    0.9   \n",
              "3           1546     0          0.5         1  18       1          25    0.5   \n",
              "4           1434     0          1.4         0  11       1          49    0.5   \n",
              "\n",
              "   mobile_wt  n_cores  ...  px_height  px_width   ram  sc_h  sc_w  talk_time  \\\n",
              "0        193        3  ...        226      1412  3476    12     7          2   \n",
              "1        191        5  ...        746       857  3895     6     0          7   \n",
              "2        186        3  ...       1270      1366  2396    17    10         10   \n",
              "3         96        8  ...        295      1752  3893    10     0          7   \n",
              "4        108        6  ...        749       810  1773    15     8          7   \n",
              "\n",
              "   three_g  touch_screen  wifi  price_range  \n",
              "0        0             1     0            3  \n",
              "1        1             0     0            3  \n",
              "2        0             1     1            2  \n",
              "3        1             1     0            3  \n",
              "4        1             0     1            1  \n",
              "\n",
              "[5 rows x 21 columns]"
            ],
            "text/html": [
              "\n",
              "  <div id=\"df-cbc542a0-b005-474a-87a8-6089a5bd9565\">\n",
              "    <div class=\"colab-df-container\">\n",
              "      <div>\n",
              "<style scoped>\n",
              "    .dataframe tbody tr th:only-of-type {\n",
              "        vertical-align: middle;\n",
              "    }\n",
              "\n",
              "    .dataframe tbody tr th {\n",
              "        vertical-align: top;\n",
              "    }\n",
              "\n",
              "    .dataframe thead th {\n",
              "        text-align: right;\n",
              "    }\n",
              "</style>\n",
              "<table border=\"1\" class=\"dataframe\">\n",
              "  <thead>\n",
              "    <tr style=\"text-align: right;\">\n",
              "      <th></th>\n",
              "      <th>battery_power</th>\n",
              "      <th>blue</th>\n",
              "      <th>clock_speed</th>\n",
              "      <th>dual_sim</th>\n",
              "      <th>fc</th>\n",
              "      <th>four_g</th>\n",
              "      <th>int_memory</th>\n",
              "      <th>m_dep</th>\n",
              "      <th>mobile_wt</th>\n",
              "      <th>n_cores</th>\n",
              "      <th>...</th>\n",
              "      <th>px_height</th>\n",
              "      <th>px_width</th>\n",
              "      <th>ram</th>\n",
              "      <th>sc_h</th>\n",
              "      <th>sc_w</th>\n",
              "      <th>talk_time</th>\n",
              "      <th>three_g</th>\n",
              "      <th>touch_screen</th>\n",
              "      <th>wifi</th>\n",
              "      <th>price_range</th>\n",
              "    </tr>\n",
              "  </thead>\n",
              "  <tbody>\n",
              "    <tr>\n",
              "      <th>0</th>\n",
              "      <td>1043</td>\n",
              "      <td>1</td>\n",
              "      <td>1.8</td>\n",
              "      <td>1</td>\n",
              "      <td>14</td>\n",
              "      <td>0</td>\n",
              "      <td>5</td>\n",
              "      <td>0.1</td>\n",
              "      <td>193</td>\n",
              "      <td>3</td>\n",
              "      <td>...</td>\n",
              "      <td>226</td>\n",
              "      <td>1412</td>\n",
              "      <td>3476</td>\n",
              "      <td>12</td>\n",
              "      <td>7</td>\n",
              "      <td>2</td>\n",
              "      <td>0</td>\n",
              "      <td>1</td>\n",
              "      <td>0</td>\n",
              "      <td>3</td>\n",
              "    </tr>\n",
              "    <tr>\n",
              "      <th>1</th>\n",
              "      <td>841</td>\n",
              "      <td>1</td>\n",
              "      <td>0.5</td>\n",
              "      <td>1</td>\n",
              "      <td>4</td>\n",
              "      <td>1</td>\n",
              "      <td>61</td>\n",
              "      <td>0.8</td>\n",
              "      <td>191</td>\n",
              "      <td>5</td>\n",
              "      <td>...</td>\n",
              "      <td>746</td>\n",
              "      <td>857</td>\n",
              "      <td>3895</td>\n",
              "      <td>6</td>\n",
              "      <td>0</td>\n",
              "      <td>7</td>\n",
              "      <td>1</td>\n",
              "      <td>0</td>\n",
              "      <td>0</td>\n",
              "      <td>3</td>\n",
              "    </tr>\n",
              "    <tr>\n",
              "      <th>2</th>\n",
              "      <td>1807</td>\n",
              "      <td>1</td>\n",
              "      <td>2.8</td>\n",
              "      <td>0</td>\n",
              "      <td>1</td>\n",
              "      <td>0</td>\n",
              "      <td>27</td>\n",
              "      <td>0.9</td>\n",
              "      <td>186</td>\n",
              "      <td>3</td>\n",
              "      <td>...</td>\n",
              "      <td>1270</td>\n",
              "      <td>1366</td>\n",
              "      <td>2396</td>\n",
              "      <td>17</td>\n",
              "      <td>10</td>\n",
              "      <td>10</td>\n",
              "      <td>0</td>\n",
              "      <td>1</td>\n",
              "      <td>1</td>\n",
              "      <td>2</td>\n",
              "    </tr>\n",
              "    <tr>\n",
              "      <th>3</th>\n",
              "      <td>1546</td>\n",
              "      <td>0</td>\n",
              "      <td>0.5</td>\n",
              "      <td>1</td>\n",
              "      <td>18</td>\n",
              "      <td>1</td>\n",
              "      <td>25</td>\n",
              "      <td>0.5</td>\n",
              "      <td>96</td>\n",
              "      <td>8</td>\n",
              "      <td>...</td>\n",
              "      <td>295</td>\n",
              "      <td>1752</td>\n",
              "      <td>3893</td>\n",
              "      <td>10</td>\n",
              "      <td>0</td>\n",
              "      <td>7</td>\n",
              "      <td>1</td>\n",
              "      <td>1</td>\n",
              "      <td>0</td>\n",
              "      <td>3</td>\n",
              "    </tr>\n",
              "    <tr>\n",
              "      <th>4</th>\n",
              "      <td>1434</td>\n",
              "      <td>0</td>\n",
              "      <td>1.4</td>\n",
              "      <td>0</td>\n",
              "      <td>11</td>\n",
              "      <td>1</td>\n",
              "      <td>49</td>\n",
              "      <td>0.5</td>\n",
              "      <td>108</td>\n",
              "      <td>6</td>\n",
              "      <td>...</td>\n",
              "      <td>749</td>\n",
              "      <td>810</td>\n",
              "      <td>1773</td>\n",
              "      <td>15</td>\n",
              "      <td>8</td>\n",
              "      <td>7</td>\n",
              "      <td>1</td>\n",
              "      <td>0</td>\n",
              "      <td>1</td>\n",
              "      <td>1</td>\n",
              "    </tr>\n",
              "  </tbody>\n",
              "</table>\n",
              "<p>5 rows × 21 columns</p>\n",
              "</div>\n",
              "      <button class=\"colab-df-convert\" onclick=\"convertToInteractive('df-cbc542a0-b005-474a-87a8-6089a5bd9565')\"\n",
              "              title=\"Convert this dataframe to an interactive table.\"\n",
              "              style=\"display:none;\">\n",
              "        \n",
              "  <svg xmlns=\"http://www.w3.org/2000/svg\" height=\"24px\"viewBox=\"0 0 24 24\"\n",
              "       width=\"24px\">\n",
              "    <path d=\"M0 0h24v24H0V0z\" fill=\"none\"/>\n",
              "    <path d=\"M18.56 5.44l.94 2.06.94-2.06 2.06-.94-2.06-.94-.94-2.06-.94 2.06-2.06.94zm-11 1L8.5 8.5l.94-2.06 2.06-.94-2.06-.94L8.5 2.5l-.94 2.06-2.06.94zm10 10l.94 2.06.94-2.06 2.06-.94-2.06-.94-.94-2.06-.94 2.06-2.06.94z\"/><path d=\"M17.41 7.96l-1.37-1.37c-.4-.4-.92-.59-1.43-.59-.52 0-1.04.2-1.43.59L10.3 9.45l-7.72 7.72c-.78.78-.78 2.05 0 2.83L4 21.41c.39.39.9.59 1.41.59.51 0 1.02-.2 1.41-.59l7.78-7.78 2.81-2.81c.8-.78.8-2.07 0-2.86zM5.41 20L4 18.59l7.72-7.72 1.47 1.35L5.41 20z\"/>\n",
              "  </svg>\n",
              "      </button>\n",
              "      \n",
              "  <style>\n",
              "    .colab-df-container {\n",
              "      display:flex;\n",
              "      flex-wrap:wrap;\n",
              "      gap: 12px;\n",
              "    }\n",
              "\n",
              "    .colab-df-convert {\n",
              "      background-color: #E8F0FE;\n",
              "      border: none;\n",
              "      border-radius: 50%;\n",
              "      cursor: pointer;\n",
              "      display: none;\n",
              "      fill: #1967D2;\n",
              "      height: 32px;\n",
              "      padding: 0 0 0 0;\n",
              "      width: 32px;\n",
              "    }\n",
              "\n",
              "    .colab-df-convert:hover {\n",
              "      background-color: #E2EBFA;\n",
              "      box-shadow: 0px 1px 2px rgba(60, 64, 67, 0.3), 0px 1px 3px 1px rgba(60, 64, 67, 0.15);\n",
              "      fill: #174EA6;\n",
              "    }\n",
              "\n",
              "    [theme=dark] .colab-df-convert {\n",
              "      background-color: #3B4455;\n",
              "      fill: #D2E3FC;\n",
              "    }\n",
              "\n",
              "    [theme=dark] .colab-df-convert:hover {\n",
              "      background-color: #434B5C;\n",
              "      box-shadow: 0px 1px 3px 1px rgba(0, 0, 0, 0.15);\n",
              "      filter: drop-shadow(0px 1px 2px rgba(0, 0, 0, 0.3));\n",
              "      fill: #FFFFFF;\n",
              "    }\n",
              "  </style>\n",
              "\n",
              "      <script>\n",
              "        const buttonEl =\n",
              "          document.querySelector('#df-cbc542a0-b005-474a-87a8-6089a5bd9565 button.colab-df-convert');\n",
              "        buttonEl.style.display =\n",
              "          google.colab.kernel.accessAllowed ? 'block' : 'none';\n",
              "\n",
              "        async function convertToInteractive(key) {\n",
              "          const element = document.querySelector('#df-cbc542a0-b005-474a-87a8-6089a5bd9565');\n",
              "          const dataTable =\n",
              "            await google.colab.kernel.invokeFunction('convertToInteractive',\n",
              "                                                     [key], {});\n",
              "          if (!dataTable) return;\n",
              "\n",
              "          const docLinkHtml = 'Like what you see? Visit the ' +\n",
              "            '<a target=\"_blank\" href=https://colab.research.google.com/notebooks/data_table.ipynb>data table notebook</a>'\n",
              "            + ' to learn more about interactive tables.';\n",
              "          element.innerHTML = '';\n",
              "          dataTable['output_type'] = 'display_data';\n",
              "          await google.colab.output.renderOutput(dataTable, element);\n",
              "          const docLink = document.createElement('div');\n",
              "          docLink.innerHTML = docLinkHtml;\n",
              "          element.appendChild(docLink);\n",
              "        }\n",
              "      </script>\n",
              "    </div>\n",
              "  </div>\n",
              "  "
            ]
          },
          "metadata": {},
          "execution_count": 49
        }
      ]
    }
  ]
}